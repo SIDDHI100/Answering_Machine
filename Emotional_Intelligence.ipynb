{
  "cells": [
    {
      "cell_type": "markdown",
      "metadata": {
        "id": "view-in-github",
        "colab_type": "text"
      },
      "source": [
        "<a href=\"https://colab.research.google.com/github/SIDDHI100/Answering_Machine/blob/main/Emotional_Intelligence.ipynb\" target=\"_parent\"><img src=\"https://colab.research.google.com/assets/colab-badge.svg\" alt=\"Open In Colab\"/></a>"
      ]
    },
    {
      "cell_type": "markdown",
      "metadata": {
        "id": "8o0tW8Ndo6TM"
      },
      "source": [
        "## *Emotional* intelligence\n",
        "\n"
      ]
    },
    {
      "cell_type": "markdown",
      "metadata": {
        "id": "7RPDUCoVsFk0"
      },
      "source": [
        "## Data (Demonstration)"
      ]
    },
    {
      "cell_type": "markdown",
      "source": [
        "Demo Data"
      ],
      "metadata": {
        "id": "hc1_mhdjKXaE"
      }
    },
    {
      "cell_type": "code",
      "execution_count": null,
      "metadata": {
        "id": "ZrF7q0qcsENX"
      },
      "outputs": [],
      "source": [
        "\n",
        "demo_data = [\n",
        "{'created_at': 'Mon Jan 01 21:07:36 +0000 2022', 'text': 'What grow yard eye reason debate commercial. Behavior happy create draw wish recent research writer.\\nCharacter institution expect grow.', 'user': {'screen_name': 'rodriguezcassandra', 'location': 'East Jonathanchester, Maine', 'followers_count': 742496}, 'place': {'country_code': 'DZ', 'place_type': 'city', 'full_name': 'Hillfort, Vermont'}, 'entities': {'hashtags': ['trade', 'them']}},\n",
        "{'created_at': 'Mon Jan 01 21:07:36 +0000 2022', 'text': 'Of coach parent loss allow development. Future lot everybody technology.', 'user': {'screen_name': 'rgoodman', 'location': 'Kentland, Nebraska', 'followers_count': 909289}, 'place': {'country_code': 'SL', 'place_type': 'city', 'full_name': 'Johnside, West Virginia'}, 'entities': {'hashtags': ['his', 'know']}},\n",
        "{'created_at': 'Mon Jan 01 21:07:36 +0000 2022', 'text': 'Figure instead and. Subject general camera become expect.\\nSuddenly reduce important explain nor though out travel. Keep along myself together.', 'user': {'screen_name': 'mary36', 'location': 'Brandonside, Nebraska', 'followers_count': 39843}, 'place': {'country_code': 'TH', 'place_type': 'city', 'full_name': 'Jenniferborough, Missouri'}, 'entities': {'hashtags': ['why', 'camera']}},\n",
        "{'created_at': 'Mon Jan 01 21:07:36 +0000 2022', 'text': 'Sort company light per. Likely thus lay suddenly American.\\nSon about else business brother. Magazine budget want put upon risk.', 'user': {'screen_name': 'kelleyallison', 'location': 'East Sarah, Wisconsin', 'followers_count': 611906}, 'place': {'country_code': 'AU', 'place_type': 'city', 'full_name': 'West Amyhaven, Indiana'}, 'entities': {'hashtags': ['think', 'around']}},\n",
        "{'created_at': 'Mon Jan 01 21:07:36 +0000 2022', 'text': 'Practice maintain trouble parent themselves. Pick discuss think this defense environmental.\\nHuge situation during Republican.\\nOfficer share how indicate down rather a. Old over effect key.', 'user': {'screen_name': 'owillis', 'location': 'Nicolemouth, Vermont', 'followers_count': 377608}, 'place': {'country_code': 'AT', 'place_type': 'city', 'full_name': 'New Nicoleburgh, Alaska'}, 'entities': {'hashtags': ['truth', 'then']}},\n",
        "{'created_at': 'Mon Jan 01 21:07:36 +0000 2022', 'text': 'Determine sit quickly shake. Culture material find ten compare reach plan few. Each popular red claim him they model.', 'user': {'screen_name': 'thomasmichael', 'location': 'Millershire, New Jersey', 'followers_count': 575027}, 'place': {'country_code': 'DJ', 'place_type': 'city', 'full_name': 'Savannahmouth, Utah'}, 'entities': {'hashtags': ['hand', 'whether']}},\n",
        "{'created_at': 'Mon Jan 07 21:07:36 +0000 2022', 'text': 'Indicate eight Mrs simple when push subject. Their human similar let arm voice art prevent. Rule drive attention pull.\\nPolice environment she game recognize your half. Born chair program hair two.', 'user': {'screen_name': 'shanejuarez', 'location': 'Washingtonstad, Virginia', 'followers_count': 261018}, 'place': {'country_code': 'VA', 'place_type': 'city', 'full_name': 'South Hannah, Maryland'}, 'entities': {'hashtags': ['above', 'member']}},\n",
        "{'created_at': 'Mon Jan 08 21:07:36 +0000 2022', 'text': 'Language whom help particular suffer central try environment.\\nOwn other fear conference town word size energy. Say explain loss at send pressure.', 'user': {'screen_name': 'zwhitehead', 'location': 'Benjaminmouth, North Carolina', 'followers_count': 780426}, 'place': {'country_code': 'LK', 'place_type': 'city', 'full_name': 'Danafurt, Minnesota'}, 'entities': {'hashtags': ['professional', 'provide']}},\n",
        "{'created_at': 'Mon Jan 09 21:07:36 +0000 2022', 'text': 'Bad such without short. Under modern both dog close nearly ask. Fire sister security career.\\nGuy ever identify often. Debate against action whose contain politics. Tell artist only western although.', 'user': {'screen_name': 'joshuadavis', 'location': 'New Kyle, Arkansas', 'followers_count': 990821}, 'place': {'country_code': 'IR', 'place_type': 'city', 'full_name': 'Courtneyfurt, Maryland'}, 'entities': {'hashtags': ['suddenly', 'claim']}},\n",
        "{'created_at': 'Mon Jan 10 21:07:36 +0000 2022', 'text': 'Call family strategy dark. Exactly writer office whether board everything sing. More crime pass feel edge Republican assume.', 'user': {'screen_name': 'sparker', 'location': 'West Susan, Alaska', 'followers_count': 414514}, 'place': {'country_code': 'BN', 'place_type': 'city', 'full_name': 'Rayside, Oklahoma'}, 'entities': {'hashtags': ['walk', 'court']}},\n",
        "{'created_at': 'Wed Mar 11 19:28:45 +0000 2022', 'text': 'Establish again north seem small they. Heavy bed I strategy goal various. Break eye skill rule. President purpose visit.', 'user': {'screen_name': 'ashleynichols', 'location': 'Williamborough, California', 'followers_count': 180373}, 'place': {'country_code': 'IR', 'place_type': 'city', 'full_name': 'Justinport, Texas'}, 'entities': {'hashtags': ['way', 'leave']}},\n",
        "{'created_at': 'Mon Dec 12 03:41:05 +0000 2022', 'text': 'Forward place front daughter pass four maybe doctor. Cup rest beautiful fund work little. Region true late.\\nYour TV become agreement student. Put middle must.', 'user': {'screen_name': 'cduncan', 'location': 'West Garystad, Delaware', 'followers_count': 136342}, 'place': {'country_code': 'NE', 'place_type': 'city', 'full_name': 'Meganmouth, Nebraska'}, 'entities': {'hashtags': ['yard', 'raise']}},\n",
        "{'created_at': 'Sat Jun 13 18:44:55 +0000 2022', 'text': 'Detail hour ok conference light. Else box we skill stage. Interview give daughter attack ago role.\\nEnjoy realize difference stay feeling. Green rich expert.', 'user': {'screen_name': 'nataliesharp', 'location': 'Rodriguezbury, Maine', 'followers_count': 986185}, 'place': {'country_code': 'MY', 'place_type': 'city', 'full_name': 'West Laura, North Dakota'}, 'entities': {'hashtags': ['lawyer', 'college']}},\n",
        "{'created_at': 'Fri Aug 14 03:17:10 +0000 2022', 'text': 'Factor around class ever well answer. Respond deal want ten. Interesting forward possible citizen on prevent.', 'user': {'screen_name': 'jjohnson', 'location': 'Denisestad, Oregon', 'followers_count': 587279}, 'place': {'country_code': 'PG', 'place_type': 'city', 'full_name': 'Hamiltonfort, Ohio'}, 'entities': {'hashtags': ['space', 'store']}},\n",
        "{'created_at': 'Sun Mar 15 10:03:16 +0000 2022', 'text': 'Organization loss offer marriage another enough state Democrat. Account either night evidence step you discussion.\\nCompare fine five rise. I ahead animal year.', 'user': {'screen_name': 'qhiggins', 'location': 'East Stephenfurt, New York', 'followers_count': 157890}, 'place': {'country_code': 'PS', 'place_type': 'city', 'full_name': 'Smithport, West Virginia'}, 'entities': {'hashtags': ['begin', 'international']}},\n",
        "{'created_at': 'Fri Mar 16 09:50:57 +0000 2022', 'text': 'Mouth fire significant. Finish land speech example talk move increase.\\nMoney tough medical fear why ever. Paper much three shake hold minute road. Forward sort drug account chair interest option.', 'user': {'screen_name': 'eric52', 'location': 'East Sarahborough, Mississippi', 'followers_count': 338662}, 'place': {'country_code': 'CM', 'place_type': 'city', 'full_name': 'Kennethberg, Washington'}, 'entities': {'hashtags': ['new', 'we']}},\n",
        "{'created_at': 'Mon Apr 17 19:01:11 +0000 2022', 'text': 'Wall base believe over. Consumer push radio mention. Arm yeah other country air. Admit become central.\\nKid program base arm trip customer goal.', 'user': {'screen_name': 'jameswatson', 'location': 'Henryberg, New Jersey', 'followers_count': 273275}, 'place': {'country_code': 'QA', 'place_type': 'city', 'full_name': 'Williamsonchester, Alaska'}, 'entities': {'hashtags': ['dark', 'add']}},\n",
        "{'created_at': 'Mon Feb 18 23:18:58 +0000 2022', 'text': 'My power spring rich record cup. Way again least say trouble. Product energy mind five spend then executive.\\nIt degree visit side eat. Spring great mention firm face down vote.', 'user': {'screen_name': 'bdavis', 'location': 'Rebekahborough, Wisconsin', 'followers_count': 258525}, 'place': {'country_code': 'DJ', 'place_type': 'city', 'full_name': 'Joseside, Missouri'}, 'entities': {'hashtags': ['nothing', 'protect']}},\n",
        "{'created_at': 'Fri Mar 19 09:49:17 +0000 2022', 'text': 'Author east later event. Doctor fast condition house agent. Student read they.\\nHis determine serious much. Of research certainly concern kind accept push. Dog note them catch somebody.', 'user': {'screen_name': 'hannah32', 'location': 'Lake Bethside, Virginia', 'followers_count': 606170}, 'place': {'country_code': 'UY', 'place_type': 'city', 'full_name': 'Port Tonyport, North Carolina'}, 'entities': {'hashtags': ['practice', 'maintain']}},\n",
        "{'created_at': 'Wed Aug 20 06:05:48 +0000 2022', 'text': 'Industry lead Democrat president allow. Nothing long half grow argue detail specific reduce. Anything carry every up quality why feeling.', 'user': {'screen_name': 'zbrooks', 'location': 'East Cathyburgh, Kansas', 'followers_count': 348517}, 'place': {'country_code': 'PL', 'place_type': 'city', 'full_name': 'East Steven, Colorado'}, 'entities': {'hashtags': ['industry', 'character']}},\n",
        "{'created_at': 'Fri Dec 21 05:47:39 +0000 2022', 'text': 'Less attack recently far less. Year chance keep.\\nTax lawyer base for. Federal cup city cover. Before condition building.', 'user': {'screen_name': 'margaret36', 'location': 'Lake Michele, North Dakota', 'followers_count': 204832}, 'place': {'country_code': 'LK', 'place_type': 'city', 'full_name': 'South Kellyberg, Mississippi'}, 'entities': {'hashtags': ['before', 'field']}},\n",
        "{'created_at': 'Sat Feb 22 16:40:50 +0000 2022', 'text': 'Other explain free put many child design. Red animal different. Mr give point safe debate public color.', 'user': {'screen_name': 'kmoore', 'location': 'Gabrielmouth, Kentucky', 'followers_count': 851379}, 'place': {'country_code': 'CO', 'place_type': 'city', 'full_name': 'Greenborough, California'}, 'entities': {'hashtags': ['under', 'black']}},\n",
        "{'created_at': 'Wed May 23 23:18:50 +0000 2022', 'text': 'Successful clear maybe successful message. More foot Mrs agree attorney despite.\\nMission light foot book leader opportunity author accept. Discussion go friend new involve.', 'user': {'screen_name': 'johnsonmichael', 'location': 'South Chad, South Carolina', 'followers_count': 320326}, 'place': {'country_code': 'VE', 'place_type': 'city', 'full_name': 'Lake Gregory, Montana'}, 'entities': {'hashtags': ['forward', 'where']}},\n",
        "{'created_at': 'Wed Oct 24 09:59:20 +0000 2022', 'text': 'Product production lead best. Amount current research protect wrong. Environmental third suggest bill feeling shake indicate.', 'user': {'screen_name': 'reidronnie', 'location': 'West Robertview, Nevada', 'followers_count': 810607}, 'place': {'country_code': 'BH', 'place_type': 'city', 'full_name': 'Vanessaton, Nevada'}, 'entities': {'hashtags': ['and', 'yes']}},\n",
        "{'created_at': 'Sat Jan 25 14:52:04 +0000 2022', 'text': 'Need hundred ready knowledge official attention receive. School fact nature toward skin prevent. Customer family step leader suggest focus perhaps.', 'user': {'screen_name': 'fcarrillo', 'location': 'Kevinstad, Wyoming', 'followers_count': 407769}, 'place': {'country_code': 'MZ', 'place_type': 'city', 'full_name': 'Michelleburgh, Nevada'}, 'entities': {'hashtags': ['hour', 'during']}},\n",
        "{'created_at': 'Sun Oct 25 07:46:35 +0000 2022', 'text': 'Child when before author. Local employee wrong although try. Short fund police home adult quickly ready anyone.\\nReport exactly meet set. Office prove picture trade age talk decide song.', 'user': {'screen_name': 'fitzpatrickmark', 'location': 'Bradberg, Delaware', 'followers_count': 239726}, 'place': {'country_code': 'TO', 'place_type': 'city', 'full_name': 'Cynthiamouth, Maryland'}, 'entities': {'hashtags': ['clear', 'month']}},\n",
        "{'created_at': 'Tue Nov 27 02:03:10 +0000 2022', 'text': 'Customer bar too walk station. Wrong section alone yourself although. Worker keep result choose plan around.\\nThose for very adult beyond. Must past in long above put wish.', 'user': {'screen_name': 'barnesamanda', 'location': 'Schneiderhaven, North Dakota', 'followers_count': 845099}, 'place': {'country_code': 'JO', 'place_type': 'city', 'full_name': 'Wolfemouth, New Hampshire'}, 'entities': {'hashtags': ['score', 'myself']}},\n",
        "{'created_at': 'Sun Dec 28 15:30:11 +0000 2022', 'text': 'Professional nor century wall discuss. Perform common grow crime miss power necessary. Direction represent move ready significant.', 'user': {'screen_name': 'kwilliams', 'location': 'Patricktown, Nebraska', 'followers_count': 489862}, 'place': {'country_code': 'MW', 'place_type': 'city', 'full_name': 'Port Jeremy, North Carolina'}, 'entities': {'hashtags': ['operation', 'people']}},\n",
        "{'created_at': 'Tue Sep 29 01:52:37 +0000 2022', 'text': 'Bit rest image keep. Candidate always along raise hope event. Behavior culture health.\\nProject fact grow outside technology government home. Option pick face people.\\nStory seat political oil.', 'user': {'screen_name': 'salassuzanne', 'location': 'West Andrea, Oklahoma', 'followers_count': 853662}, 'place': {'country_code': 'YE', 'place_type': 'city', 'full_name': 'Deannafurt, Kentucky'}, 'entities': {'hashtags': ['focus', 'herself']}},\n",
        "{'created_at': 'Thu May 30 11:13:55 +0000 2022', 'text': 'Picture even teach radio fire. Image end certain boy off place film. On may sea support report big candidate act. Suddenly agree about whom fight make.', 'user': {'screen_name': 'carolyngillespie', 'location': 'Mcfarlandbury, Oklahoma', 'followers_count': 39189}, 'place': {'country_code': 'FJ', 'place_type': 'city', 'full_name': 'East Sandrahaven, Wisconsin'}, 'entities': {'hashtags': ['set', 'result']}},\n",
        "{'created_at': 'Fri Dec 31 05:47:39 +0000 2022', 'text': 'Less attack recently far less. Year chance keep.\\nTax lawyer base for. Federal cup city cover. Before condition building.', 'user': {'screen_name': 'margaret36', 'location': 'Lake Michele, North Dakota', 'followers_count': 204832}, 'place': {'country_code': 'LK', 'place_type': 'city', 'full_name': 'South Kellyberg, Mississippi'}, 'entities': {'hashtags': ['before', 'field']}},\n",
        "{'created_at': 'Sat Feb 01 16:40:50 +0000 2022', 'text': 'Other explain free put many child design. Red animal different. Mr give point safe debate public color.', 'user': {'screen_name': 'kmoore', 'location': 'Gabrielmouth, Kentucky', 'followers_count': 851379}, 'place': {'country_code': 'CO', 'place_type': 'city', 'full_name': 'Greenborough, California'}, 'entities': {'hashtags': ['under', 'black']}},\n",
        "{'created_at': 'Wed May 02 23:18:50 +0000 2022', 'text': 'Successful clear maybe successful message. More foot Mrs agree attorney despite.\\nMission light foot book leader opportunity author accept. Discussion go friend new involve.', 'user': {'screen_name': 'johnsonmichael', 'location': 'South Chad, South Carolina', 'followers_count': 320326}, 'place': {'country_code': 'VE', 'place_type': 'city', 'full_name': 'Lake Gregory, Montana'}, 'entities': {'hashtags': ['forward', 'where']}},\n",
        "{'created_at': 'Wed Oct 03 09:59:20 +0000 2022', 'text': 'Product production lead best. Amount current research protect wrong. Environmental third suggest bill feeling shake indicate.', 'user': {'screen_name': 'reidronnie', 'location': 'West Robertview, Nevada', 'followers_count': 810607}, 'place': {'country_code': 'BH', 'place_type': 'city', 'full_name': 'Vanessaton, Nevada'}, 'entities': {'hashtags': ['and', 'yes']}},\n",
        "{'created_at': 'Sat Jan 04 14:52:04 +0000 2022', 'text': 'Need hundred ready knowledge official attention receive. School fact nature toward skin prevent. Customer family step leader suggest focus perhaps.', 'user': {'screen_name': 'fcarrillo', 'location': 'Kevinstad, Wyoming', 'followers_count': 407769}, 'place': {'country_code': 'MZ', 'place_type': 'city', 'full_name': 'Michelleburgh, Nevada'}, 'entities': {'hashtags': ['hour', 'during']}},\n",
        "{'created_at': 'Sun Oct 05 07:46:35 +0000 2022', 'text': 'Child when before author. Local employee wrong although try. Short fund police home adult quickly ready anyone.\\nReport exactly meet set. Office prove picture trade age talk decide song.', 'user': {'screen_name': 'fitzpatrickmark', 'location': 'Bradberg, Delaware', 'followers_count': 239726}, 'place': {'country_code': 'TO', 'place_type': 'city', 'full_name': 'Cynthiamouth, Maryland'}, 'entities': {'hashtags': ['clear', 'month']}},\n",
        "{'created_at': 'Tue Nov 06 02:03:10 +0000 2022', 'text': 'Customer bar too walk station. Wrong section alone yourself although. Worker keep result choose plan around.\\nThose for very adult beyond. Must past in long above put wish.', 'user': {'screen_name': 'barnesamanda', 'location': 'Schneiderhaven, North Dakota', 'followers_count': 845099}, 'place': {'country_code': 'JO', 'place_type': 'city', 'full_name': 'Wolfemouth, New Hampshire'}, 'entities': {'hashtags': ['score', 'myself']}},\n",
        "{'created_at': 'Sun Jan 01 15:30:11 +0000 2022', 'text': 'Professional nor century wall discuss. Perform common grow crime miss power necessary. Direction represent move ready significant.', 'user': {'screen_name': 'kwilliams', 'location': 'Patricktown, Nebraska', 'followers_count': 489862}, 'place': {'country_code': 'MW', 'place_type': 'city', 'full_name': 'Port Jeremy, North Carolina'}, 'entities': {'hashtags': ['operation', 'people']}},\n",
        "{'created_at': 'Tue Sep 08 01:52:37 +0000 2022', 'text': 'Bit rest image keep. Candidate always along raise hope event. Behavior culture health.\\nProject fact grow outside technology government home. Option pick face people.\\nStory seat political oil.', 'user': {'screen_name': 'salassuzanne', 'location': 'West Andrea, Oklahoma', 'followers_count': 853662}, 'place': {'country_code': 'YE', 'place_type': 'city', 'full_name': 'Deannafurt, Kentucky'}, 'entities': {'hashtags': ['focus', 'herself']}},\n",
        "{'created_at': 'Thu May 09 11:13:55 +0000 2022', 'text': 'Picture even teach radio fire. Image end certain boy off place film. On may sea support report big candidate act. Suddenly agree about whom fight make.', 'user': {'screen_name': 'carolyngillespie', 'location': 'Mcfarlandbury, Oklahoma', 'followers_count': 39189}, 'place': {'country_code': 'FJ', 'place_type': 'city', 'full_name': 'East Sandrahaven, Wisconsin'}, 'entities': {'hashtags': ['set', 'result']}},\n",
        "\n",
        "]\n"
      ]
    },
    {
      "cell_type": "markdown",
      "source": [
        "Actual Data (Incomplete)"
      ],
      "metadata": {
        "id": "pXyfFfH_KZTM"
      }
    },
    {
      "cell_type": "code",
      "source": [
        "demo_data =[\n",
        "  {\n",
        "  \"created_at\": \"Sun Feb 24 21:07:36 +0000 2023\",\n",
        "  \"text\": \"The power of TATA ...Tata means Trust 😊💪⚡\",\n",
        "  \"user\": {\n",
        "    \"screen_name\": \"TataMotors\",\n",
        "    \"location\": \"East Jonathanchester, Maine\",\n",
        "    \"followers_count\": 742496\n",
        "  },\n",
        "  \"place\": {\n",
        "    \"country_code\": \"DZ\",\n",
        "    \"place_type\": \"city\",\n",
        "    \"full_name\": \"Hillfort, Vermont\"\n",
        "  },\n",
        "  \"entities\": {\n",
        "    \"hashtags\": [\"tata\", \"tatamotors\"]\n",
        "  }\n",
        "},\n",
        "\n",
        "    {\n",
        "  \"created_at\": \"Sun Feb 25 21:07:36 +0000 2023\",\n",
        "  \"text\": \"ఇది అసలైన భారతీయ యాడ్ ..ఇది టాటా ఎయిర్ ఇండియా యాడ్ ...\",\n",
        "  \"user\": {\n",
        "    \"screen_name\": \"somethig\",\n",
        "    \"location\": \"East Jonathanchester, Maine\",\n",
        "    \"followers_count\": 742496\n",
        "  },\n",
        "  \"place\": {\n",
        "    \"country_code\": \"DZ\",\n",
        "    \"place_type\": \"city\",\n",
        "    \"full_name\": \"Hillfort, Vermont\"\n",
        "  },\n",
        "  \"entities\": {\n",
        "\n",
        "    \"hashtags\": [\"tata\", \"tataairlines\"]\n",
        "  }\n",
        "},\n",
        "\n",
        "      {\n",
        "  \"created_at\": \"Sun Mar 01 21:07:36 +0000 2023\",\n",
        "  \"text\": \"𝑻𝒘𝒐 𝑳𝒆𝒈𝒆𝒏𝒅𝒔 𝒊𝒏 𝒐𝒏𝒆 𝒇𝒓𝒂𝒎𝒆! 🔥🤩 For more stories and videos, visit the Sports Tak website⬇️\",\n",
        "  \"user\": {\n",
        "    \"screen_name\": \"somethig\",\n",
        "    \"location\": \"East Jonathanchester, Maine\",\n",
        "    \"followers_count\": 742496\n",
        "  },\n",
        "  \"place\": {\n",
        "    \"country_code\": \"DZ\",\n",
        "    \"place_type\": \"city\",\n",
        "    \"full_name\": \"Hillfort, Vermont\"\n",
        "  },\n",
        "  \"entities\": {\n",
        "\n",
        "    \"hashtags\": [\"tata\", \"tataairlines\"]\n",
        "  }\n",
        "},\n",
        "\n",
        "\n",
        "      {\n",
        "  \"created_at\": \"Sun Feb 26 21:07:36 +0000 2023\",\n",
        "  \"text\": \"BIG COMPANIES MAKING LOSSES \",\n",
        "  \"user\": {\n",
        "    \"screen_name\": \"somethig\",\n",
        "    \"location\": \"East Jonathanchester, Maine\",\n",
        "    \"followers_count\": 742496\n",
        "  },\n",
        "  \"place\": {\n",
        "    \"country_code\": \"DZ\",\n",
        "    \"place_type\": \"city\",\n",
        "    \"full_name\": \"Hillfort, Vermont\"\n",
        "  },\n",
        "  \"entities\": {\n",
        "\n",
        "    \"hashtags\": [\"tata\", \"tataairlines\"]\n",
        "  }\n",
        "},\n",
        "  {\n",
        "  \"created_at\": \"Sun Feb 28 21:07:36 +0000 2023\",\n",
        "  \"text\": \"🔥 Break! Experts bevestigen wat #PvdD  met omwonden zei🚩 Gezondheid moet op 1, maar wordt door #Tata nog ernstiger geschaad dan gedacht🚩 Tata & overheid doen onvoldoende🚩 Metingen niet op orde🚩 Kankerverwekkende KGF2 veel eerder dichtPvdD wil nu debat & bijsturen!\",\n",
        "  \"user\": {\n",
        "    \"screen_name\": \"somethig\",\n",
        "    \"location\": \"East Jonathanchester, Maine\",\n",
        "    \"followers_count\": 742496\n",
        "  },\n",
        "  \"place\": {\n",
        "    \"country_code\": \"DZ\",\n",
        "    \"place_type\": \"city\",\n",
        "    \"full_name\": \"Hillfort, Vermont\"\n",
        "  },\n",
        "  \"entities\": {\n",
        "\n",
        "    \"hashtags\": [\"tata\", \"tataairlines\"]\n",
        "  }\n",
        "},\n",
        " {\n",
        "  \"created_at\": \"Sun Feb 21 21:07:36 +0000 2023\",\n",
        "  \"text\": \"Tata Power's subsidiary signs agreement to setup 30MW solar plant in Rajasthan. #Tata #TataPower #StocksToWatch #StocksToTrade\",\n",
        "  \"user\": {\n",
        "    \"screen_name\": \"somethig\",\n",
        "    \"location\": \"East Jonathanchester, Maine\",\n",
        "    \"followers_count\": 742496\n",
        "  },\n",
        "  \"place\": {\n",
        "    \"country_code\": \"DZ\",\n",
        "    \"place_type\": \"city\",\n",
        "    \"full_name\": \"Hillfort, Vermont\"\n",
        "  },\n",
        "  \"entities\": {\n",
        "\n",
        "    \"hashtags\": [\"tata\", \"tataairlines\"]\n",
        "  }\n",
        "},\n",
        "   {\n",
        "  \"created_at\": \"Sun Mar 01 21:07:36 +0000 2023\",\n",
        "  \"text\": \"Replying to @_Meetvaghasiya7@TataCLiQ,@TataCompanies ,@RNTata2000  ,@bankofbaroda  ,@BankofBarodaCEO , please help a customer out!  This is causing a lot of inconvenience, and we need a quick resolution. 💔\",\n",
        "  \"user\": {\n",
        "    \"screen_name\": \"TataMotors\",\n",
        "    \"location\": \"East Jonathanchester, Maine\",\n",
        "    \"followers_count\": 742496\n",
        "  },\n",
        "  \"place\": {\n",
        "    \"country_code\": \"DZ\",\n",
        "    \"place_type\": \"city\",\n",
        "    \"full_name\": \"Hillfort, Vermont\"\n",
        "  },\n",
        "  \"entities\": {\n",
        "    \"hashtags\": [\"tata\", \"tatamotors\"]\n",
        "  }\n",
        "},\n",
        "\n",
        "]"
      ],
      "metadata": {
        "id": "U-rEalNnKasR"
      },
      "execution_count": null,
      "outputs": []
    },
    {
      "cell_type": "markdown",
      "metadata": {
        "id": "5VQnwdyZpsMC"
      },
      "source": [
        "## Packages\n",
        "\n",
        "\n",
        "\n"
      ]
    },
    {
      "cell_type": "code",
      "execution_count": null,
      "metadata": {
        "colab": {
          "base_uri": "https://localhost:8080/"
        },
        "id": "TQo1XWPspowm",
        "outputId": "8467592e-4bf2-46c6-8b2d-dea432444aa8"
      },
      "outputs": [
        {
          "output_type": "stream",
          "name": "stdout",
          "text": [
            "Collecting deep-translator\n",
            "  Downloading deep_translator-1.11.4-py3-none-any.whl (42 kB)\n",
            "\u001b[2K     \u001b[90m━━━━━━━━━━━━━━━━━━━━━━━━━━━━━━━━━━━━━━━━\u001b[0m \u001b[32m42.3/42.3 kB\u001b[0m \u001b[31m622.7 kB/s\u001b[0m eta \u001b[36m0:00:00\u001b[0m\n",
            "\u001b[?25hRequirement already satisfied: plotly in /usr/local/lib/python3.10/dist-packages (5.15.0)\n",
            "Requirement already satisfied: textblob in /usr/local/lib/python3.10/dist-packages (0.17.1)\n",
            "Requirement already satisfied: pandas in /usr/local/lib/python3.10/dist-packages (1.5.3)\n",
            "Requirement already satisfied: matplotlib in /usr/local/lib/python3.10/dist-packages (3.7.1)\n",
            "Requirement already satisfied: beautifulsoup4<5.0.0,>=4.9.1 in /usr/local/lib/python3.10/dist-packages (from deep-translator) (4.12.3)\n",
            "Requirement already satisfied: requests<3.0.0,>=2.23.0 in /usr/local/lib/python3.10/dist-packages (from deep-translator) (2.31.0)\n",
            "Requirement already satisfied: tenacity>=6.2.0 in /usr/local/lib/python3.10/dist-packages (from plotly) (8.2.3)\n",
            "Requirement already satisfied: packaging in /usr/local/lib/python3.10/dist-packages (from plotly) (23.2)\n",
            "Requirement already satisfied: nltk>=3.1 in /usr/local/lib/python3.10/dist-packages (from textblob) (3.8.1)\n",
            "Requirement already satisfied: python-dateutil>=2.8.1 in /usr/local/lib/python3.10/dist-packages (from pandas) (2.8.2)\n",
            "Requirement already satisfied: pytz>=2020.1 in /usr/local/lib/python3.10/dist-packages (from pandas) (2023.4)\n",
            "Requirement already satisfied: numpy>=1.21.0 in /usr/local/lib/python3.10/dist-packages (from pandas) (1.25.2)\n",
            "Requirement already satisfied: contourpy>=1.0.1 in /usr/local/lib/python3.10/dist-packages (from matplotlib) (1.2.0)\n",
            "Requirement already satisfied: cycler>=0.10 in /usr/local/lib/python3.10/dist-packages (from matplotlib) (0.12.1)\n",
            "Requirement already satisfied: fonttools>=4.22.0 in /usr/local/lib/python3.10/dist-packages (from matplotlib) (4.49.0)\n",
            "Requirement already satisfied: kiwisolver>=1.0.1 in /usr/local/lib/python3.10/dist-packages (from matplotlib) (1.4.5)\n",
            "Requirement already satisfied: pillow>=6.2.0 in /usr/local/lib/python3.10/dist-packages (from matplotlib) (9.4.0)\n",
            "Requirement already satisfied: pyparsing>=2.3.1 in /usr/local/lib/python3.10/dist-packages (from matplotlib) (3.1.1)\n",
            "Requirement already satisfied: soupsieve>1.2 in /usr/local/lib/python3.10/dist-packages (from beautifulsoup4<5.0.0,>=4.9.1->deep-translator) (2.5)\n",
            "Requirement already satisfied: click in /usr/local/lib/python3.10/dist-packages (from nltk>=3.1->textblob) (8.1.7)\n",
            "Requirement already satisfied: joblib in /usr/local/lib/python3.10/dist-packages (from nltk>=3.1->textblob) (1.3.2)\n",
            "Requirement already satisfied: regex>=2021.8.3 in /usr/local/lib/python3.10/dist-packages (from nltk>=3.1->textblob) (2023.12.25)\n",
            "Requirement already satisfied: tqdm in /usr/local/lib/python3.10/dist-packages (from nltk>=3.1->textblob) (4.66.2)\n",
            "Requirement already satisfied: six>=1.5 in /usr/local/lib/python3.10/dist-packages (from python-dateutil>=2.8.1->pandas) (1.16.0)\n",
            "Requirement already satisfied: charset-normalizer<4,>=2 in /usr/local/lib/python3.10/dist-packages (from requests<3.0.0,>=2.23.0->deep-translator) (3.3.2)\n",
            "Requirement already satisfied: idna<4,>=2.5 in /usr/local/lib/python3.10/dist-packages (from requests<3.0.0,>=2.23.0->deep-translator) (3.6)\n",
            "Requirement already satisfied: urllib3<3,>=1.21.1 in /usr/local/lib/python3.10/dist-packages (from requests<3.0.0,>=2.23.0->deep-translator) (2.0.7)\n",
            "Requirement already satisfied: certifi>=2017.4.17 in /usr/local/lib/python3.10/dist-packages (from requests<3.0.0,>=2.23.0->deep-translator) (2024.2.2)\n",
            "Installing collected packages: deep-translator\n",
            "Successfully installed deep-translator-1.11.4\n"
          ]
        }
      ],
      "source": [
        "!pip install deep-translator plotly textblob pandas matplotlib"
      ]
    },
    {
      "cell_type": "markdown",
      "metadata": {
        "id": "dhPwwcWzoL_K"
      },
      "source": [
        "## Functions Definitions"
      ]
    },
    {
      "cell_type": "markdown",
      "metadata": {
        "id": "hQ71iRVOqFFj"
      },
      "source": [
        "Text translation function"
      ]
    },
    {
      "cell_type": "code",
      "execution_count": null,
      "metadata": {
        "id": "LrUmlDwCo5s0"
      },
      "outputs": [],
      "source": [
        "from deep_translator import GoogleTranslator\n",
        "\n",
        "def translate_text(text, source_lang=\"auto\", target_lang=\"en\"):\n",
        "    return GoogleTranslator().translate(text, source=source_lang, target=target_lang)\n"
      ]
    },
    {
      "cell_type": "markdown",
      "metadata": {
        "id": "tPzsPGyyqJWc"
      },
      "source": [
        "Sentiment Analysis function"
      ]
    },
    {
      "cell_type": "code",
      "execution_count": null,
      "metadata": {
        "id": "IVziKNx6vL2a"
      },
      "outputs": [],
      "source": [
        "from textblob import TextBlob\n",
        "\n",
        "def analyze_sentiment(text):\n",
        "    analysis = TextBlob(text)\n",
        "    sentiment = analysis.sentiment.polarity\n",
        "\n",
        "    if sentiment > 0:\n",
        "        return \"Positive\"\n",
        "    elif sentiment < 0:\n",
        "        return \"Negative\"\n",
        "    else:\n",
        "        return \"Neutral\"\n"
      ]
    },
    {
      "cell_type": "markdown",
      "source": [
        "Search by hashtag"
      ],
      "metadata": {
        "id": "Ft7lkf843OAw"
      }
    },
    {
      "cell_type": "code",
      "source": [
        "def filter_data_by_hashtags(data):\n",
        "    user_hashtags = input(\"Enter hashtags separated by commas ( Example : trade, his): \").split(',')\n",
        "    user_hashtags = [hashtag.strip().lower() for hashtag in user_hashtags]\n",
        "\n",
        "    filtered_data = []\n",
        "\n",
        "    for tweet in data:\n",
        "        tweet_hashtags = tweet.get('entities', {}).get('hashtags', [])\n",
        "\n",
        "        # Check if any of the user-specified hashtags are present in the tweet\n",
        "        if any(hashtag.lower() in [tag.get('text', '').lower() if isinstance(tag, dict) else str(tag).lower() for tag in tweet_hashtags] for hashtag in user_hashtags):\n",
        "            filtered_data.append(tweet)\n",
        "\n",
        "    return filtered_data\n",
        "\n"
      ],
      "metadata": {
        "id": "57SLFfmj3RRu"
      },
      "execution_count": null,
      "outputs": []
    },
    {
      "cell_type": "markdown",
      "source": [
        "Search by username"
      ],
      "metadata": {
        "id": "X3ZjwkAyFNDZ"
      }
    },
    {
      "cell_type": "code",
      "source": [
        "def filter_data_by_screen_name(data):\n",
        "    user_input = input(\"Enter screen names separated by commas ( Example: rodriguezcassandra, anotheruser): \")\n",
        "    user_screen_names = [screen_name.strip().lower() for screen_name in user_input.split(',')]\n",
        "\n",
        "    filtered_data = []\n",
        "\n",
        "    for tweet in data:\n",
        "        tweet_screen_name = tweet.get('user', {}).get('screen_name', '').lower()\n",
        "\n",
        "        if tweet_screen_name in user_screen_names:\n",
        "            filtered_data.append(tweet)\n",
        "\n",
        "    return filtered_data\n",
        "\n"
      ],
      "metadata": {
        "id": "xQECyhHmFQ6P"
      },
      "execution_count": null,
      "outputs": []
    },
    {
      "cell_type": "markdown",
      "source": [
        "Menu"
      ],
      "metadata": {
        "id": "Hylm9VesAzKD"
      }
    },
    {
      "cell_type": "code",
      "source": [
        "def display_menu():\n",
        "    print(\"Menu:\")\n",
        "    print(\"1. Get Full Analysis\")\n",
        "    print(\"2. Analysis by Hashtag\")\n",
        "    print(\"3. Analaysis by userame\")\n",
        "    choice = input(\"Enter your choice (1, 2, or 3): \")\n",
        "    return choice\n"
      ],
      "metadata": {
        "id": "bC4U_Wz5A0oU"
      },
      "execution_count": null,
      "outputs": []
    },
    {
      "cell_type": "markdown",
      "source": [
        "Data Frame"
      ],
      "metadata": {
        "id": "62qLM2-HA8xB"
      }
    },
    {
      "cell_type": "code",
      "source": [
        "def process_data(choice, data):\n",
        "    if choice == '1':\n",
        "        df = pd.DataFrame(data)\n",
        "\n",
        "    elif choice == '2':\n",
        "        df = pd.DataFrame(filter_data_by_hashtags(data))\n",
        "\n",
        "    elif choice == '3':\n",
        "        df = pd.DataFrame(filter_data_by_screen_name(data))\n",
        "\n",
        "    else:\n",
        "        print(\"Invalid choice. Please enter 1, 2, or 3.\")\n",
        "        return None  # Return None in case of an invalid choice\n",
        "\n",
        "    return df\n"
      ],
      "metadata": {
        "id": "UNiD743jA-nX"
      },
      "execution_count": null,
      "outputs": []
    },
    {
      "cell_type": "markdown",
      "metadata": {
        "id": "m34VNzKduR4p"
      },
      "source": [
        "## Function Call"
      ]
    },
    {
      "cell_type": "markdown",
      "metadata": {
        "id": "Ld9zWaPXq6yc"
      },
      "source": [
        "Text translation"
      ]
    },
    {
      "cell_type": "code",
      "execution_count": null,
      "metadata": {
        "colab": {
          "base_uri": "https://localhost:8080/"
        },
        "id": "bv2ZWorVtoXB",
        "outputId": "2ac349fd-cd11-402c-9027-8d32b5056f42"
      },
      "outputs": [
        {
          "output_type": "stream",
          "name": "stdout",
          "text": [
            "This is original indian ad ..this is tata air india ad ...\n"
          ]
        }
      ],
      "source": [
        "print( translate_text(\"ఇది అసలైన భారతీయ యాడ్ ..ఇది టాటా ఎయిర్ ఇండియా యాడ్ ...\") )"
      ]
    },
    {
      "cell_type": "markdown",
      "metadata": {
        "id": "pqk0VXxzvS_T"
      },
      "source": [
        "Sentiment analysis"
      ]
    },
    {
      "cell_type": "code",
      "execution_count": null,
      "metadata": {
        "colab": {
          "base_uri": "https://localhost:8080/"
        },
        "id": "61uE2PKTvYn5",
        "outputId": "b6403a3b-38c0-437d-c752-e5b8c62e036a"
      },
      "outputs": [
        {
          "output_type": "stream",
          "name": "stdout",
          "text": [
            "Negative\n"
          ]
        }
      ],
      "source": [
        "print (analyze_sentiment(\"You are bad\"))"
      ]
    },
    {
      "cell_type": "code",
      "execution_count": null,
      "metadata": {
        "id": "KNJX5rdutJ-W",
        "colab": {
          "base_uri": "https://localhost:8080/"
        },
        "outputId": "230a7b03-b831-4789-e807-9e51768d20a9"
      },
      "outputs": [
        {
          "name": "stdout",
          "output_type": "stream",
          "text": [
            "Enter hashtags separated by commas ( Example : trade, his): 1\n"
          ]
        }
      ],
      "source": [
        "filtered_tweets = filter_data_by_hashtags(demo_data)\n",
        "\n",
        "# Print the filtered tweets\n",
        "for tweet in filtered_tweets:\n",
        "    print(tweet)\n"
      ]
    },
    {
      "cell_type": "markdown",
      "metadata": {
        "id": "VX7QvSacvWS-"
      },
      "source": [
        "## Graph Setup"
      ]
    },
    {
      "cell_type": "code",
      "source": [
        "import pandas as pd\n",
        "import matplotlib.pyplot as plt\n",
        "from datetime import datetime\n",
        "\n",
        "\n",
        "user_choice = display_menu()\n",
        "df = process_data(user_choice, demo_data)\n",
        "\n",
        "df['created_at'] = pd.to_datetime(df['created_at'], format='%a %b %d %H:%M:%S %z %Y')\n",
        "\n",
        "\n",
        "df['translated_text'] = df['text'].apply(translate_text)\n",
        "\n",
        "df['sentiment'] = df['translated_text'].apply(analyze_sentiment)"
      ],
      "metadata": {
        "colab": {
          "base_uri": "https://localhost:8080/"
        },
        "id": "c0mnW-4cCAs-",
        "outputId": "a9bdf800-7b32-4387-8b0b-e054c8d8c5f0"
      },
      "execution_count": null,
      "outputs": [
        {
          "name": "stdout",
          "output_type": "stream",
          "text": [
            "Menu:\n",
            "1. Get Full Analysis\n",
            "2. Analysis by Hashtag\n",
            "3. Analaysis by userame\n",
            "Enter your choice (1, 2, or 3): 1\n"
          ]
        }
      ]
    },
    {
      "cell_type": "markdown",
      "metadata": {
        "id": "isa8nzmGuFaF"
      },
      "source": [
        "## Line Graph"
      ]
    },
    {
      "cell_type": "code",
      "source": [
        "# Import necessary libraries\n",
        "import plotly.express as px\n",
        "\n",
        "# Group by date and calculate sentiment counts\n",
        "daily_sentiments = df.groupby([df['created_at'].dt.date, 'sentiment']).size().unstack(fill_value=0).reset_index()\n",
        "\n",
        "# Melt the DataFrame for easier plotting with Plotly Express\n",
        "melted_df = daily_sentiments.melt(id_vars='created_at', var_name='sentiment', value_name='count')\n",
        "\n",
        "# Plotting with Plotly Express\n",
        "fig = px.line(melted_df, x='created_at', y='count', color='sentiment',\n",
        "              title='Sentiment Distribution Over Time',\n",
        "              labels={'created_at': 'Date', 'count': 'Number of Texts'},\n",
        "              line_shape='linear',\n",
        "              color_discrete_map={'positive': 'green', 'neutral': 'gray', 'negative': 'red'})\n",
        "\n",
        "# Adding legend outside the plot\n",
        "fig.update_layout(\n",
        "    legend=dict(title='Sentiment', orientation='h', y=1.1, x=0.5),\n",
        "    xaxis=dict(tickformat='%Y-%m-%d'),\n",
        "    yaxis=dict(title='Number of Texts', tickmode='linear'),\n",
        "    autosize=True,\n",
        "    template='plotly_dark'  # Enable dark mode\n",
        ")\n",
        "\n",
        "# Show the interactive plot\n",
        "fig.show()\n"
      ],
      "metadata": {
        "colab": {
          "base_uri": "https://localhost:8080/",
          "height": 542
        },
        "id": "gosna2DoCk9A",
        "outputId": "5fa14f8f-0d30-4f99-80bc-6299758d6344"
      },
      "execution_count": null,
      "outputs": [
        {
          "output_type": "display_data",
          "data": {
            "text/html": [
              "<html>\n",
              "<head><meta charset=\"utf-8\" /></head>\n",
              "<body>\n",
              "    <div>            <script src=\"https://cdnjs.cloudflare.com/ajax/libs/mathjax/2.7.5/MathJax.js?config=TeX-AMS-MML_SVG\"></script><script type=\"text/javascript\">if (window.MathJax && window.MathJax.Hub && window.MathJax.Hub.Config) {window.MathJax.Hub.Config({SVG: {font: \"STIX-Web\"}});}</script>                <script type=\"text/javascript\">window.PlotlyConfig = {MathJaxConfig: 'local'};</script>\n",
              "        <script charset=\"utf-8\" src=\"https://cdn.plot.ly/plotly-2.24.1.min.js\"></script>                <div id=\"c2030805-abc5-4407-9b6b-d118de99aed8\" class=\"plotly-graph-div\" style=\"height:525px; width:100%;\"></div>            <script type=\"text/javascript\">                                    window.PLOTLYENV=window.PLOTLYENV || {};                                    if (document.getElementById(\"c2030805-abc5-4407-9b6b-d118de99aed8\")) {                    Plotly.newPlot(                        \"c2030805-abc5-4407-9b6b-d118de99aed8\",                        [{\"hovertemplate\":\"sentiment=Negative\\u003cbr\\u003eDate=%{x}\\u003cbr\\u003eNumber of Texts=%{y}\\u003cextra\\u003e\\u003c\\u002fextra\\u003e\",\"legendgroup\":\"Negative\",\"line\":{\"color\":\"#ab63fa\",\"dash\":\"solid\",\"shape\":\"linear\"},\"marker\":{\"symbol\":\"circle\"},\"mode\":\"lines\",\"name\":\"Negative\",\"orientation\":\"v\",\"showlegend\":true,\"x\":[\"2022-01-01\",\"2022-01-04\",\"2022-01-07\",\"2022-01-08\",\"2022-01-09\",\"2022-01-10\",\"2022-01-25\",\"2022-02-01\",\"2022-02-18\",\"2022-02-22\",\"2022-03-11\",\"2022-03-15\",\"2022-03-16\",\"2022-03-19\",\"2022-04-17\",\"2022-05-02\",\"2022-05-09\",\"2022-05-23\",\"2022-05-30\",\"2022-06-13\",\"2022-08-14\",\"2022-08-20\",\"2022-09-08\",\"2022-09-29\",\"2022-10-03\",\"2022-10-05\",\"2022-10-24\",\"2022-10-25\",\"2022-11-06\",\"2022-11-27\",\"2022-12-12\",\"2022-12-21\",\"2022-12-28\",\"2022-12-31\"],\"xaxis\":\"x\",\"y\":[0,0,1,0,1,0,0,0,0,0,1,0,0,0,1,0,0,0,0,0,0,1,0,0,0,0,0,0,1,1,0,1,0,1],\"yaxis\":\"y\",\"type\":\"scatter\"},{\"hovertemplate\":\"sentiment=Neutral\\u003cbr\\u003eDate=%{x}\\u003cbr\\u003eNumber of Texts=%{y}\\u003cextra\\u003e\\u003c\\u002fextra\\u003e\",\"legendgroup\":\"Neutral\",\"line\":{\"color\":\"#FFA15A\",\"dash\":\"solid\",\"shape\":\"linear\"},\"marker\":{\"symbol\":\"circle\"},\"mode\":\"lines\",\"name\":\"Neutral\",\"orientation\":\"v\",\"showlegend\":true,\"x\":[\"2022-01-01\",\"2022-01-04\",\"2022-01-07\",\"2022-01-08\",\"2022-01-09\",\"2022-01-10\",\"2022-01-25\",\"2022-02-01\",\"2022-02-18\",\"2022-02-22\",\"2022-03-11\",\"2022-03-15\",\"2022-03-16\",\"2022-03-19\",\"2022-04-17\",\"2022-05-02\",\"2022-05-09\",\"2022-05-23\",\"2022-05-30\",\"2022-06-13\",\"2022-08-14\",\"2022-08-20\",\"2022-09-08\",\"2022-09-29\",\"2022-10-03\",\"2022-10-05\",\"2022-10-24\",\"2022-10-25\",\"2022-11-06\",\"2022-11-27\",\"2022-12-12\",\"2022-12-21\",\"2022-12-28\",\"2022-12-31\"],\"xaxis\":\"x\",\"y\":[1,0,0,0,0,0,0,0,0,0,0,0,0,0,0,0,0,0,0,0,0,0,1,1,0,0,0,0,0,0,0,0,0,0],\"yaxis\":\"y\",\"type\":\"scatter\"},{\"hovertemplate\":\"sentiment=Positive\\u003cbr\\u003eDate=%{x}\\u003cbr\\u003eNumber of Texts=%{y}\\u003cextra\\u003e\\u003c\\u002fextra\\u003e\",\"legendgroup\":\"Positive\",\"line\":{\"color\":\"#19d3f3\",\"dash\":\"solid\",\"shape\":\"linear\"},\"marker\":{\"symbol\":\"circle\"},\"mode\":\"lines\",\"name\":\"Positive\",\"orientation\":\"v\",\"showlegend\":true,\"x\":[\"2022-01-01\",\"2022-01-04\",\"2022-01-07\",\"2022-01-08\",\"2022-01-09\",\"2022-01-10\",\"2022-01-25\",\"2022-02-01\",\"2022-02-18\",\"2022-02-22\",\"2022-03-11\",\"2022-03-15\",\"2022-03-16\",\"2022-03-19\",\"2022-04-17\",\"2022-05-02\",\"2022-05-09\",\"2022-05-23\",\"2022-05-30\",\"2022-06-13\",\"2022-08-14\",\"2022-08-20\",\"2022-09-08\",\"2022-09-29\",\"2022-10-03\",\"2022-10-05\",\"2022-10-24\",\"2022-10-25\",\"2022-11-06\",\"2022-11-27\",\"2022-12-12\",\"2022-12-21\",\"2022-12-28\",\"2022-12-31\"],\"xaxis\":\"x\",\"y\":[6,1,0,1,0,1,1,1,1,1,0,1,1,1,0,1,1,1,1,1,1,0,0,0,1,1,1,1,0,0,1,0,1,0],\"yaxis\":\"y\",\"type\":\"scatter\"}],                        {\"template\":{\"data\":{\"barpolar\":[{\"marker\":{\"line\":{\"color\":\"rgb(17,17,17)\",\"width\":0.5},\"pattern\":{\"fillmode\":\"overlay\",\"size\":10,\"solidity\":0.2}},\"type\":\"barpolar\"}],\"bar\":[{\"error_x\":{\"color\":\"#f2f5fa\"},\"error_y\":{\"color\":\"#f2f5fa\"},\"marker\":{\"line\":{\"color\":\"rgb(17,17,17)\",\"width\":0.5},\"pattern\":{\"fillmode\":\"overlay\",\"size\":10,\"solidity\":0.2}},\"type\":\"bar\"}],\"carpet\":[{\"aaxis\":{\"endlinecolor\":\"#A2B1C6\",\"gridcolor\":\"#506784\",\"linecolor\":\"#506784\",\"minorgridcolor\":\"#506784\",\"startlinecolor\":\"#A2B1C6\"},\"baxis\":{\"endlinecolor\":\"#A2B1C6\",\"gridcolor\":\"#506784\",\"linecolor\":\"#506784\",\"minorgridcolor\":\"#506784\",\"startlinecolor\":\"#A2B1C6\"},\"type\":\"carpet\"}],\"choropleth\":[{\"colorbar\":{\"outlinewidth\":0,\"ticks\":\"\"},\"type\":\"choropleth\"}],\"contourcarpet\":[{\"colorbar\":{\"outlinewidth\":0,\"ticks\":\"\"},\"type\":\"contourcarpet\"}],\"contour\":[{\"colorbar\":{\"outlinewidth\":0,\"ticks\":\"\"},\"colorscale\":[[0.0,\"#0d0887\"],[0.1111111111111111,\"#46039f\"],[0.2222222222222222,\"#7201a8\"],[0.3333333333333333,\"#9c179e\"],[0.4444444444444444,\"#bd3786\"],[0.5555555555555556,\"#d8576b\"],[0.6666666666666666,\"#ed7953\"],[0.7777777777777778,\"#fb9f3a\"],[0.8888888888888888,\"#fdca26\"],[1.0,\"#f0f921\"]],\"type\":\"contour\"}],\"heatmapgl\":[{\"colorbar\":{\"outlinewidth\":0,\"ticks\":\"\"},\"colorscale\":[[0.0,\"#0d0887\"],[0.1111111111111111,\"#46039f\"],[0.2222222222222222,\"#7201a8\"],[0.3333333333333333,\"#9c179e\"],[0.4444444444444444,\"#bd3786\"],[0.5555555555555556,\"#d8576b\"],[0.6666666666666666,\"#ed7953\"],[0.7777777777777778,\"#fb9f3a\"],[0.8888888888888888,\"#fdca26\"],[1.0,\"#f0f921\"]],\"type\":\"heatmapgl\"}],\"heatmap\":[{\"colorbar\":{\"outlinewidth\":0,\"ticks\":\"\"},\"colorscale\":[[0.0,\"#0d0887\"],[0.1111111111111111,\"#46039f\"],[0.2222222222222222,\"#7201a8\"],[0.3333333333333333,\"#9c179e\"],[0.4444444444444444,\"#bd3786\"],[0.5555555555555556,\"#d8576b\"],[0.6666666666666666,\"#ed7953\"],[0.7777777777777778,\"#fb9f3a\"],[0.8888888888888888,\"#fdca26\"],[1.0,\"#f0f921\"]],\"type\":\"heatmap\"}],\"histogram2dcontour\":[{\"colorbar\":{\"outlinewidth\":0,\"ticks\":\"\"},\"colorscale\":[[0.0,\"#0d0887\"],[0.1111111111111111,\"#46039f\"],[0.2222222222222222,\"#7201a8\"],[0.3333333333333333,\"#9c179e\"],[0.4444444444444444,\"#bd3786\"],[0.5555555555555556,\"#d8576b\"],[0.6666666666666666,\"#ed7953\"],[0.7777777777777778,\"#fb9f3a\"],[0.8888888888888888,\"#fdca26\"],[1.0,\"#f0f921\"]],\"type\":\"histogram2dcontour\"}],\"histogram2d\":[{\"colorbar\":{\"outlinewidth\":0,\"ticks\":\"\"},\"colorscale\":[[0.0,\"#0d0887\"],[0.1111111111111111,\"#46039f\"],[0.2222222222222222,\"#7201a8\"],[0.3333333333333333,\"#9c179e\"],[0.4444444444444444,\"#bd3786\"],[0.5555555555555556,\"#d8576b\"],[0.6666666666666666,\"#ed7953\"],[0.7777777777777778,\"#fb9f3a\"],[0.8888888888888888,\"#fdca26\"],[1.0,\"#f0f921\"]],\"type\":\"histogram2d\"}],\"histogram\":[{\"marker\":{\"pattern\":{\"fillmode\":\"overlay\",\"size\":10,\"solidity\":0.2}},\"type\":\"histogram\"}],\"mesh3d\":[{\"colorbar\":{\"outlinewidth\":0,\"ticks\":\"\"},\"type\":\"mesh3d\"}],\"parcoords\":[{\"line\":{\"colorbar\":{\"outlinewidth\":0,\"ticks\":\"\"}},\"type\":\"parcoords\"}],\"pie\":[{\"automargin\":true,\"type\":\"pie\"}],\"scatter3d\":[{\"line\":{\"colorbar\":{\"outlinewidth\":0,\"ticks\":\"\"}},\"marker\":{\"colorbar\":{\"outlinewidth\":0,\"ticks\":\"\"}},\"type\":\"scatter3d\"}],\"scattercarpet\":[{\"marker\":{\"colorbar\":{\"outlinewidth\":0,\"ticks\":\"\"}},\"type\":\"scattercarpet\"}],\"scattergeo\":[{\"marker\":{\"colorbar\":{\"outlinewidth\":0,\"ticks\":\"\"}},\"type\":\"scattergeo\"}],\"scattergl\":[{\"marker\":{\"line\":{\"color\":\"#283442\"}},\"type\":\"scattergl\"}],\"scattermapbox\":[{\"marker\":{\"colorbar\":{\"outlinewidth\":0,\"ticks\":\"\"}},\"type\":\"scattermapbox\"}],\"scatterpolargl\":[{\"marker\":{\"colorbar\":{\"outlinewidth\":0,\"ticks\":\"\"}},\"type\":\"scatterpolargl\"}],\"scatterpolar\":[{\"marker\":{\"colorbar\":{\"outlinewidth\":0,\"ticks\":\"\"}},\"type\":\"scatterpolar\"}],\"scatter\":[{\"marker\":{\"line\":{\"color\":\"#283442\"}},\"type\":\"scatter\"}],\"scatterternary\":[{\"marker\":{\"colorbar\":{\"outlinewidth\":0,\"ticks\":\"\"}},\"type\":\"scatterternary\"}],\"surface\":[{\"colorbar\":{\"outlinewidth\":0,\"ticks\":\"\"},\"colorscale\":[[0.0,\"#0d0887\"],[0.1111111111111111,\"#46039f\"],[0.2222222222222222,\"#7201a8\"],[0.3333333333333333,\"#9c179e\"],[0.4444444444444444,\"#bd3786\"],[0.5555555555555556,\"#d8576b\"],[0.6666666666666666,\"#ed7953\"],[0.7777777777777778,\"#fb9f3a\"],[0.8888888888888888,\"#fdca26\"],[1.0,\"#f0f921\"]],\"type\":\"surface\"}],\"table\":[{\"cells\":{\"fill\":{\"color\":\"#506784\"},\"line\":{\"color\":\"rgb(17,17,17)\"}},\"header\":{\"fill\":{\"color\":\"#2a3f5f\"},\"line\":{\"color\":\"rgb(17,17,17)\"}},\"type\":\"table\"}]},\"layout\":{\"annotationdefaults\":{\"arrowcolor\":\"#f2f5fa\",\"arrowhead\":0,\"arrowwidth\":1},\"autotypenumbers\":\"strict\",\"coloraxis\":{\"colorbar\":{\"outlinewidth\":0,\"ticks\":\"\"}},\"colorscale\":{\"diverging\":[[0,\"#8e0152\"],[0.1,\"#c51b7d\"],[0.2,\"#de77ae\"],[0.3,\"#f1b6da\"],[0.4,\"#fde0ef\"],[0.5,\"#f7f7f7\"],[0.6,\"#e6f5d0\"],[0.7,\"#b8e186\"],[0.8,\"#7fbc41\"],[0.9,\"#4d9221\"],[1,\"#276419\"]],\"sequential\":[[0.0,\"#0d0887\"],[0.1111111111111111,\"#46039f\"],[0.2222222222222222,\"#7201a8\"],[0.3333333333333333,\"#9c179e\"],[0.4444444444444444,\"#bd3786\"],[0.5555555555555556,\"#d8576b\"],[0.6666666666666666,\"#ed7953\"],[0.7777777777777778,\"#fb9f3a\"],[0.8888888888888888,\"#fdca26\"],[1.0,\"#f0f921\"]],\"sequentialminus\":[[0.0,\"#0d0887\"],[0.1111111111111111,\"#46039f\"],[0.2222222222222222,\"#7201a8\"],[0.3333333333333333,\"#9c179e\"],[0.4444444444444444,\"#bd3786\"],[0.5555555555555556,\"#d8576b\"],[0.6666666666666666,\"#ed7953\"],[0.7777777777777778,\"#fb9f3a\"],[0.8888888888888888,\"#fdca26\"],[1.0,\"#f0f921\"]]},\"colorway\":[\"#636efa\",\"#EF553B\",\"#00cc96\",\"#ab63fa\",\"#FFA15A\",\"#19d3f3\",\"#FF6692\",\"#B6E880\",\"#FF97FF\",\"#FECB52\"],\"font\":{\"color\":\"#f2f5fa\"},\"geo\":{\"bgcolor\":\"rgb(17,17,17)\",\"lakecolor\":\"rgb(17,17,17)\",\"landcolor\":\"rgb(17,17,17)\",\"showlakes\":true,\"showland\":true,\"subunitcolor\":\"#506784\"},\"hoverlabel\":{\"align\":\"left\"},\"hovermode\":\"closest\",\"mapbox\":{\"style\":\"dark\"},\"paper_bgcolor\":\"rgb(17,17,17)\",\"plot_bgcolor\":\"rgb(17,17,17)\",\"polar\":{\"angularaxis\":{\"gridcolor\":\"#506784\",\"linecolor\":\"#506784\",\"ticks\":\"\"},\"bgcolor\":\"rgb(17,17,17)\",\"radialaxis\":{\"gridcolor\":\"#506784\",\"linecolor\":\"#506784\",\"ticks\":\"\"}},\"scene\":{\"xaxis\":{\"backgroundcolor\":\"rgb(17,17,17)\",\"gridcolor\":\"#506784\",\"gridwidth\":2,\"linecolor\":\"#506784\",\"showbackground\":true,\"ticks\":\"\",\"zerolinecolor\":\"#C8D4E3\"},\"yaxis\":{\"backgroundcolor\":\"rgb(17,17,17)\",\"gridcolor\":\"#506784\",\"gridwidth\":2,\"linecolor\":\"#506784\",\"showbackground\":true,\"ticks\":\"\",\"zerolinecolor\":\"#C8D4E3\"},\"zaxis\":{\"backgroundcolor\":\"rgb(17,17,17)\",\"gridcolor\":\"#506784\",\"gridwidth\":2,\"linecolor\":\"#506784\",\"showbackground\":true,\"ticks\":\"\",\"zerolinecolor\":\"#C8D4E3\"}},\"shapedefaults\":{\"line\":{\"color\":\"#f2f5fa\"}},\"sliderdefaults\":{\"bgcolor\":\"#C8D4E3\",\"bordercolor\":\"rgb(17,17,17)\",\"borderwidth\":1,\"tickwidth\":0},\"ternary\":{\"aaxis\":{\"gridcolor\":\"#506784\",\"linecolor\":\"#506784\",\"ticks\":\"\"},\"baxis\":{\"gridcolor\":\"#506784\",\"linecolor\":\"#506784\",\"ticks\":\"\"},\"bgcolor\":\"rgb(17,17,17)\",\"caxis\":{\"gridcolor\":\"#506784\",\"linecolor\":\"#506784\",\"ticks\":\"\"}},\"title\":{\"x\":0.05},\"updatemenudefaults\":{\"bgcolor\":\"#506784\",\"borderwidth\":0},\"xaxis\":{\"automargin\":true,\"gridcolor\":\"#283442\",\"linecolor\":\"#506784\",\"ticks\":\"\",\"title\":{\"standoff\":15},\"zerolinecolor\":\"#283442\",\"zerolinewidth\":2},\"yaxis\":{\"automargin\":true,\"gridcolor\":\"#283442\",\"linecolor\":\"#506784\",\"ticks\":\"\",\"title\":{\"standoff\":15},\"zerolinecolor\":\"#283442\",\"zerolinewidth\":2}}},\"xaxis\":{\"anchor\":\"y\",\"domain\":[0.0,1.0],\"title\":{\"text\":\"Date\"},\"tickformat\":\"%Y-%m-%d\"},\"yaxis\":{\"anchor\":\"x\",\"domain\":[0.0,1.0],\"title\":{\"text\":\"Number of Texts\"},\"tickmode\":\"linear\"},\"legend\":{\"title\":{\"text\":\"Sentiment\"},\"tracegroupgap\":0,\"orientation\":\"h\",\"y\":1.1,\"x\":0.5},\"title\":{\"text\":\"Sentiment Distribution Over Time\"},\"autosize\":true},                        {\"responsive\": true}                    ).then(function(){\n",
              "                            \n",
              "var gd = document.getElementById('c2030805-abc5-4407-9b6b-d118de99aed8');\n",
              "var x = new MutationObserver(function (mutations, observer) {{\n",
              "        var display = window.getComputedStyle(gd).display;\n",
              "        if (!display || display === 'none') {{\n",
              "            console.log([gd, 'removed!']);\n",
              "            Plotly.purge(gd);\n",
              "            observer.disconnect();\n",
              "        }}\n",
              "}});\n",
              "\n",
              "// Listen for the removal of the full notebook cells\n",
              "var notebookContainer = gd.closest('#notebook-container');\n",
              "if (notebookContainer) {{\n",
              "    x.observe(notebookContainer, {childList: true});\n",
              "}}\n",
              "\n",
              "// Listen for the clearing of the current output cell\n",
              "var outputEl = gd.closest('.output');\n",
              "if (outputEl) {{\n",
              "    x.observe(outputEl, {childList: true});\n",
              "}}\n",
              "\n",
              "                        })                };                            </script>        </div>\n",
              "</body>\n",
              "</html>"
            ]
          },
          "metadata": {}
        }
      ]
    },
    {
      "cell_type": "markdown",
      "metadata": {
        "id": "Uui1m9YPxtzS"
      },
      "source": [
        "## Pie Chart"
      ]
    },
    {
      "cell_type": "code",
      "execution_count": null,
      "metadata": {
        "colab": {
          "base_uri": "https://localhost:8080/",
          "height": 542
        },
        "id": "si3RZLDzx0Ce",
        "outputId": "8a6a06f8-9aaf-47ee-92d8-cb9cdc295896"
      },
      "outputs": [
        {
          "output_type": "display_data",
          "data": {
            "text/html": [
              "<html>\n",
              "<head><meta charset=\"utf-8\" /></head>\n",
              "<body>\n",
              "    <div>            <script src=\"https://cdnjs.cloudflare.com/ajax/libs/mathjax/2.7.5/MathJax.js?config=TeX-AMS-MML_SVG\"></script><script type=\"text/javascript\">if (window.MathJax && window.MathJax.Hub && window.MathJax.Hub.Config) {window.MathJax.Hub.Config({SVG: {font: \"STIX-Web\"}});}</script>                <script type=\"text/javascript\">window.PlotlyConfig = {MathJaxConfig: 'local'};</script>\n",
              "        <script charset=\"utf-8\" src=\"https://cdn.plot.ly/plotly-2.24.1.min.js\"></script>                <div id=\"846a419e-44c1-4db6-b2b5-cfd5828e8222\" class=\"plotly-graph-div\" style=\"height:525px; width:100%;\"></div>            <script type=\"text/javascript\">                                    window.PLOTLYENV=window.PLOTLYENV || {};                                    if (document.getElementById(\"846a419e-44c1-4db6-b2b5-cfd5828e8222\")) {                    Plotly.newPlot(                        \"846a419e-44c1-4db6-b2b5-cfd5828e8222\",                        [{\"customdata\":[[\"Negative\"],[\"Negative\"],[\"Negative\"],[\"Negative\"],[\"Negative\"],[\"Negative\"],[\"Negative\"],[\"Negative\"],[\"Negative\"],[\"Negative\"],[\"Negative\"],[\"Negative\"],[\"Negative\"],[\"Negative\"],[\"Negative\"],[\"Negative\"],[\"Negative\"],[\"Negative\"],[\"Negative\"],[\"Negative\"],[\"Negative\"],[\"Negative\"],[\"Negative\"],[\"Negative\"],[\"Negative\"],[\"Negative\"],[\"Negative\"],[\"Negative\"],[\"Negative\"],[\"Negative\"],[\"Negative\"],[\"Negative\"],[\"Negative\"],[\"Negative\"],[\"Neutral\"],[\"Neutral\"],[\"Neutral\"],[\"Neutral\"],[\"Neutral\"],[\"Neutral\"],[\"Neutral\"],[\"Neutral\"],[\"Neutral\"],[\"Neutral\"],[\"Neutral\"],[\"Neutral\"],[\"Neutral\"],[\"Neutral\"],[\"Neutral\"],[\"Neutral\"],[\"Neutral\"],[\"Neutral\"],[\"Neutral\"],[\"Neutral\"],[\"Neutral\"],[\"Neutral\"],[\"Neutral\"],[\"Neutral\"],[\"Neutral\"],[\"Neutral\"],[\"Neutral\"],[\"Neutral\"],[\"Neutral\"],[\"Neutral\"],[\"Neutral\"],[\"Neutral\"],[\"Neutral\"],[\"Neutral\"],[\"Positive\"],[\"Positive\"],[\"Positive\"],[\"Positive\"],[\"Positive\"],[\"Positive\"],[\"Positive\"],[\"Positive\"],[\"Positive\"],[\"Positive\"],[\"Positive\"],[\"Positive\"],[\"Positive\"],[\"Positive\"],[\"Positive\"],[\"Positive\"],[\"Positive\"],[\"Positive\"],[\"Positive\"],[\"Positive\"],[\"Positive\"],[\"Positive\"],[\"Positive\"],[\"Positive\"],[\"Positive\"],[\"Positive\"],[\"Positive\"],[\"Positive\"],[\"Positive\"],[\"Positive\"],[\"Positive\"],[\"Positive\"],[\"Positive\"],[\"Positive\"]],\"domain\":{\"x\":[0.0,1.0],\"y\":[0.0,1.0]},\"hole\":0.3,\"hovertemplate\":\"Sentiment=%{customdata[0]}\\u003cbr\\u003eNumber of Texts=%{value}\\u003cextra\\u003e\\u003c\\u002fextra\\u003e\",\"labels\":[\"Negative\",\"Negative\",\"Negative\",\"Negative\",\"Negative\",\"Negative\",\"Negative\",\"Negative\",\"Negative\",\"Negative\",\"Negative\",\"Negative\",\"Negative\",\"Negative\",\"Negative\",\"Negative\",\"Negative\",\"Negative\",\"Negative\",\"Negative\",\"Negative\",\"Negative\",\"Negative\",\"Negative\",\"Negative\",\"Negative\",\"Negative\",\"Negative\",\"Negative\",\"Negative\",\"Negative\",\"Negative\",\"Negative\",\"Negative\",\"Neutral\",\"Neutral\",\"Neutral\",\"Neutral\",\"Neutral\",\"Neutral\",\"Neutral\",\"Neutral\",\"Neutral\",\"Neutral\",\"Neutral\",\"Neutral\",\"Neutral\",\"Neutral\",\"Neutral\",\"Neutral\",\"Neutral\",\"Neutral\",\"Neutral\",\"Neutral\",\"Neutral\",\"Neutral\",\"Neutral\",\"Neutral\",\"Neutral\",\"Neutral\",\"Neutral\",\"Neutral\",\"Neutral\",\"Neutral\",\"Neutral\",\"Neutral\",\"Neutral\",\"Neutral\",\"Positive\",\"Positive\",\"Positive\",\"Positive\",\"Positive\",\"Positive\",\"Positive\",\"Positive\",\"Positive\",\"Positive\",\"Positive\",\"Positive\",\"Positive\",\"Positive\",\"Positive\",\"Positive\",\"Positive\",\"Positive\",\"Positive\",\"Positive\",\"Positive\",\"Positive\",\"Positive\",\"Positive\",\"Positive\",\"Positive\",\"Positive\",\"Positive\",\"Positive\",\"Positive\",\"Positive\",\"Positive\",\"Positive\",\"Positive\"],\"legendgroup\":\"\",\"marker\":{\"colors\":[\"#ab63fa\",\"#ab63fa\",\"#ab63fa\",\"#ab63fa\",\"#ab63fa\",\"#ab63fa\",\"#ab63fa\",\"#ab63fa\",\"#ab63fa\",\"#ab63fa\",\"#ab63fa\",\"#ab63fa\",\"#ab63fa\",\"#ab63fa\",\"#ab63fa\",\"#ab63fa\",\"#ab63fa\",\"#ab63fa\",\"#ab63fa\",\"#ab63fa\",\"#ab63fa\",\"#ab63fa\",\"#ab63fa\",\"#ab63fa\",\"#ab63fa\",\"#ab63fa\",\"#ab63fa\",\"#ab63fa\",\"#ab63fa\",\"#ab63fa\",\"#ab63fa\",\"#ab63fa\",\"#ab63fa\",\"#ab63fa\",\"#FFA15A\",\"#FFA15A\",\"#FFA15A\",\"#FFA15A\",\"#FFA15A\",\"#FFA15A\",\"#FFA15A\",\"#FFA15A\",\"#FFA15A\",\"#FFA15A\",\"#FFA15A\",\"#FFA15A\",\"#FFA15A\",\"#FFA15A\",\"#FFA15A\",\"#FFA15A\",\"#FFA15A\",\"#FFA15A\",\"#FFA15A\",\"#FFA15A\",\"#FFA15A\",\"#FFA15A\",\"#FFA15A\",\"#FFA15A\",\"#FFA15A\",\"#FFA15A\",\"#FFA15A\",\"#FFA15A\",\"#FFA15A\",\"#FFA15A\",\"#FFA15A\",\"#FFA15A\",\"#FFA15A\",\"#FFA15A\",\"#19d3f3\",\"#19d3f3\",\"#19d3f3\",\"#19d3f3\",\"#19d3f3\",\"#19d3f3\",\"#19d3f3\",\"#19d3f3\",\"#19d3f3\",\"#19d3f3\",\"#19d3f3\",\"#19d3f3\",\"#19d3f3\",\"#19d3f3\",\"#19d3f3\",\"#19d3f3\",\"#19d3f3\",\"#19d3f3\",\"#19d3f3\",\"#19d3f3\",\"#19d3f3\",\"#19d3f3\",\"#19d3f3\",\"#19d3f3\",\"#19d3f3\",\"#19d3f3\",\"#19d3f3\",\"#19d3f3\",\"#19d3f3\",\"#19d3f3\",\"#19d3f3\",\"#19d3f3\",\"#19d3f3\",\"#19d3f3\"],\"line\":{\"color\":\"white\",\"width\":2}},\"name\":\"\",\"showlegend\":true,\"values\":[0,0,1,0,1,0,0,0,0,0,1,0,0,0,1,0,0,0,0,0,0,1,0,0,0,0,0,0,1,1,0,1,0,1,1,0,0,0,0,0,0,0,0,0,0,0,0,0,0,0,0,0,0,0,0,0,1,1,0,0,0,0,0,0,0,0,0,0,6,1,0,1,0,1,1,1,1,1,0,1,1,1,0,1,1,1,1,1,1,0,0,0,1,1,1,1,0,0,1,0,1,0],\"type\":\"pie\",\"textfont\":{\"size\":16},\"hoverinfo\":\"label+percent\",\"pull\":[0.1,0.1,0.1],\"textinfo\":\"percent+label\"}],                        {\"template\":{\"data\":{\"barpolar\":[{\"marker\":{\"line\":{\"color\":\"rgb(17,17,17)\",\"width\":0.5},\"pattern\":{\"fillmode\":\"overlay\",\"size\":10,\"solidity\":0.2}},\"type\":\"barpolar\"}],\"bar\":[{\"error_x\":{\"color\":\"#f2f5fa\"},\"error_y\":{\"color\":\"#f2f5fa\"},\"marker\":{\"line\":{\"color\":\"rgb(17,17,17)\",\"width\":0.5},\"pattern\":{\"fillmode\":\"overlay\",\"size\":10,\"solidity\":0.2}},\"type\":\"bar\"}],\"carpet\":[{\"aaxis\":{\"endlinecolor\":\"#A2B1C6\",\"gridcolor\":\"#506784\",\"linecolor\":\"#506784\",\"minorgridcolor\":\"#506784\",\"startlinecolor\":\"#A2B1C6\"},\"baxis\":{\"endlinecolor\":\"#A2B1C6\",\"gridcolor\":\"#506784\",\"linecolor\":\"#506784\",\"minorgridcolor\":\"#506784\",\"startlinecolor\":\"#A2B1C6\"},\"type\":\"carpet\"}],\"choropleth\":[{\"colorbar\":{\"outlinewidth\":0,\"ticks\":\"\"},\"type\":\"choropleth\"}],\"contourcarpet\":[{\"colorbar\":{\"outlinewidth\":0,\"ticks\":\"\"},\"type\":\"contourcarpet\"}],\"contour\":[{\"colorbar\":{\"outlinewidth\":0,\"ticks\":\"\"},\"colorscale\":[[0.0,\"#0d0887\"],[0.1111111111111111,\"#46039f\"],[0.2222222222222222,\"#7201a8\"],[0.3333333333333333,\"#9c179e\"],[0.4444444444444444,\"#bd3786\"],[0.5555555555555556,\"#d8576b\"],[0.6666666666666666,\"#ed7953\"],[0.7777777777777778,\"#fb9f3a\"],[0.8888888888888888,\"#fdca26\"],[1.0,\"#f0f921\"]],\"type\":\"contour\"}],\"heatmapgl\":[{\"colorbar\":{\"outlinewidth\":0,\"ticks\":\"\"},\"colorscale\":[[0.0,\"#0d0887\"],[0.1111111111111111,\"#46039f\"],[0.2222222222222222,\"#7201a8\"],[0.3333333333333333,\"#9c179e\"],[0.4444444444444444,\"#bd3786\"],[0.5555555555555556,\"#d8576b\"],[0.6666666666666666,\"#ed7953\"],[0.7777777777777778,\"#fb9f3a\"],[0.8888888888888888,\"#fdca26\"],[1.0,\"#f0f921\"]],\"type\":\"heatmapgl\"}],\"heatmap\":[{\"colorbar\":{\"outlinewidth\":0,\"ticks\":\"\"},\"colorscale\":[[0.0,\"#0d0887\"],[0.1111111111111111,\"#46039f\"],[0.2222222222222222,\"#7201a8\"],[0.3333333333333333,\"#9c179e\"],[0.4444444444444444,\"#bd3786\"],[0.5555555555555556,\"#d8576b\"],[0.6666666666666666,\"#ed7953\"],[0.7777777777777778,\"#fb9f3a\"],[0.8888888888888888,\"#fdca26\"],[1.0,\"#f0f921\"]],\"type\":\"heatmap\"}],\"histogram2dcontour\":[{\"colorbar\":{\"outlinewidth\":0,\"ticks\":\"\"},\"colorscale\":[[0.0,\"#0d0887\"],[0.1111111111111111,\"#46039f\"],[0.2222222222222222,\"#7201a8\"],[0.3333333333333333,\"#9c179e\"],[0.4444444444444444,\"#bd3786\"],[0.5555555555555556,\"#d8576b\"],[0.6666666666666666,\"#ed7953\"],[0.7777777777777778,\"#fb9f3a\"],[0.8888888888888888,\"#fdca26\"],[1.0,\"#f0f921\"]],\"type\":\"histogram2dcontour\"}],\"histogram2d\":[{\"colorbar\":{\"outlinewidth\":0,\"ticks\":\"\"},\"colorscale\":[[0.0,\"#0d0887\"],[0.1111111111111111,\"#46039f\"],[0.2222222222222222,\"#7201a8\"],[0.3333333333333333,\"#9c179e\"],[0.4444444444444444,\"#bd3786\"],[0.5555555555555556,\"#d8576b\"],[0.6666666666666666,\"#ed7953\"],[0.7777777777777778,\"#fb9f3a\"],[0.8888888888888888,\"#fdca26\"],[1.0,\"#f0f921\"]],\"type\":\"histogram2d\"}],\"histogram\":[{\"marker\":{\"pattern\":{\"fillmode\":\"overlay\",\"size\":10,\"solidity\":0.2}},\"type\":\"histogram\"}],\"mesh3d\":[{\"colorbar\":{\"outlinewidth\":0,\"ticks\":\"\"},\"type\":\"mesh3d\"}],\"parcoords\":[{\"line\":{\"colorbar\":{\"outlinewidth\":0,\"ticks\":\"\"}},\"type\":\"parcoords\"}],\"pie\":[{\"automargin\":true,\"type\":\"pie\"}],\"scatter3d\":[{\"line\":{\"colorbar\":{\"outlinewidth\":0,\"ticks\":\"\"}},\"marker\":{\"colorbar\":{\"outlinewidth\":0,\"ticks\":\"\"}},\"type\":\"scatter3d\"}],\"scattercarpet\":[{\"marker\":{\"colorbar\":{\"outlinewidth\":0,\"ticks\":\"\"}},\"type\":\"scattercarpet\"}],\"scattergeo\":[{\"marker\":{\"colorbar\":{\"outlinewidth\":0,\"ticks\":\"\"}},\"type\":\"scattergeo\"}],\"scattergl\":[{\"marker\":{\"line\":{\"color\":\"#283442\"}},\"type\":\"scattergl\"}],\"scattermapbox\":[{\"marker\":{\"colorbar\":{\"outlinewidth\":0,\"ticks\":\"\"}},\"type\":\"scattermapbox\"}],\"scatterpolargl\":[{\"marker\":{\"colorbar\":{\"outlinewidth\":0,\"ticks\":\"\"}},\"type\":\"scatterpolargl\"}],\"scatterpolar\":[{\"marker\":{\"colorbar\":{\"outlinewidth\":0,\"ticks\":\"\"}},\"type\":\"scatterpolar\"}],\"scatter\":[{\"marker\":{\"line\":{\"color\":\"#283442\"}},\"type\":\"scatter\"}],\"scatterternary\":[{\"marker\":{\"colorbar\":{\"outlinewidth\":0,\"ticks\":\"\"}},\"type\":\"scatterternary\"}],\"surface\":[{\"colorbar\":{\"outlinewidth\":0,\"ticks\":\"\"},\"colorscale\":[[0.0,\"#0d0887\"],[0.1111111111111111,\"#46039f\"],[0.2222222222222222,\"#7201a8\"],[0.3333333333333333,\"#9c179e\"],[0.4444444444444444,\"#bd3786\"],[0.5555555555555556,\"#d8576b\"],[0.6666666666666666,\"#ed7953\"],[0.7777777777777778,\"#fb9f3a\"],[0.8888888888888888,\"#fdca26\"],[1.0,\"#f0f921\"]],\"type\":\"surface\"}],\"table\":[{\"cells\":{\"fill\":{\"color\":\"#506784\"},\"line\":{\"color\":\"rgb(17,17,17)\"}},\"header\":{\"fill\":{\"color\":\"#2a3f5f\"},\"line\":{\"color\":\"rgb(17,17,17)\"}},\"type\":\"table\"}]},\"layout\":{\"annotationdefaults\":{\"arrowcolor\":\"#f2f5fa\",\"arrowhead\":0,\"arrowwidth\":1},\"autotypenumbers\":\"strict\",\"coloraxis\":{\"colorbar\":{\"outlinewidth\":0,\"ticks\":\"\"}},\"colorscale\":{\"diverging\":[[0,\"#8e0152\"],[0.1,\"#c51b7d\"],[0.2,\"#de77ae\"],[0.3,\"#f1b6da\"],[0.4,\"#fde0ef\"],[0.5,\"#f7f7f7\"],[0.6,\"#e6f5d0\"],[0.7,\"#b8e186\"],[0.8,\"#7fbc41\"],[0.9,\"#4d9221\"],[1,\"#276419\"]],\"sequential\":[[0.0,\"#0d0887\"],[0.1111111111111111,\"#46039f\"],[0.2222222222222222,\"#7201a8\"],[0.3333333333333333,\"#9c179e\"],[0.4444444444444444,\"#bd3786\"],[0.5555555555555556,\"#d8576b\"],[0.6666666666666666,\"#ed7953\"],[0.7777777777777778,\"#fb9f3a\"],[0.8888888888888888,\"#fdca26\"],[1.0,\"#f0f921\"]],\"sequentialminus\":[[0.0,\"#0d0887\"],[0.1111111111111111,\"#46039f\"],[0.2222222222222222,\"#7201a8\"],[0.3333333333333333,\"#9c179e\"],[0.4444444444444444,\"#bd3786\"],[0.5555555555555556,\"#d8576b\"],[0.6666666666666666,\"#ed7953\"],[0.7777777777777778,\"#fb9f3a\"],[0.8888888888888888,\"#fdca26\"],[1.0,\"#f0f921\"]]},\"colorway\":[\"#636efa\",\"#EF553B\",\"#00cc96\",\"#ab63fa\",\"#FFA15A\",\"#19d3f3\",\"#FF6692\",\"#B6E880\",\"#FF97FF\",\"#FECB52\"],\"font\":{\"color\":\"#f2f5fa\"},\"geo\":{\"bgcolor\":\"rgb(17,17,17)\",\"lakecolor\":\"rgb(17,17,17)\",\"landcolor\":\"rgb(17,17,17)\",\"showlakes\":true,\"showland\":true,\"subunitcolor\":\"#506784\"},\"hoverlabel\":{\"align\":\"left\"},\"hovermode\":\"closest\",\"mapbox\":{\"style\":\"dark\"},\"paper_bgcolor\":\"rgb(17,17,17)\",\"plot_bgcolor\":\"rgb(17,17,17)\",\"polar\":{\"angularaxis\":{\"gridcolor\":\"#506784\",\"linecolor\":\"#506784\",\"ticks\":\"\"},\"bgcolor\":\"rgb(17,17,17)\",\"radialaxis\":{\"gridcolor\":\"#506784\",\"linecolor\":\"#506784\",\"ticks\":\"\"}},\"scene\":{\"xaxis\":{\"backgroundcolor\":\"rgb(17,17,17)\",\"gridcolor\":\"#506784\",\"gridwidth\":2,\"linecolor\":\"#506784\",\"showbackground\":true,\"ticks\":\"\",\"zerolinecolor\":\"#C8D4E3\"},\"yaxis\":{\"backgroundcolor\":\"rgb(17,17,17)\",\"gridcolor\":\"#506784\",\"gridwidth\":2,\"linecolor\":\"#506784\",\"showbackground\":true,\"ticks\":\"\",\"zerolinecolor\":\"#C8D4E3\"},\"zaxis\":{\"backgroundcolor\":\"rgb(17,17,17)\",\"gridcolor\":\"#506784\",\"gridwidth\":2,\"linecolor\":\"#506784\",\"showbackground\":true,\"ticks\":\"\",\"zerolinecolor\":\"#C8D4E3\"}},\"shapedefaults\":{\"line\":{\"color\":\"#f2f5fa\"}},\"sliderdefaults\":{\"bgcolor\":\"#C8D4E3\",\"bordercolor\":\"rgb(17,17,17)\",\"borderwidth\":1,\"tickwidth\":0},\"ternary\":{\"aaxis\":{\"gridcolor\":\"#506784\",\"linecolor\":\"#506784\",\"ticks\":\"\"},\"baxis\":{\"gridcolor\":\"#506784\",\"linecolor\":\"#506784\",\"ticks\":\"\"},\"bgcolor\":\"rgb(17,17,17)\",\"caxis\":{\"gridcolor\":\"#506784\",\"linecolor\":\"#506784\",\"ticks\":\"\"}},\"title\":{\"x\":0.05},\"updatemenudefaults\":{\"bgcolor\":\"#506784\",\"borderwidth\":0},\"xaxis\":{\"automargin\":true,\"gridcolor\":\"#283442\",\"linecolor\":\"#506784\",\"ticks\":\"\",\"title\":{\"standoff\":15},\"zerolinecolor\":\"#283442\",\"zerolinewidth\":2},\"yaxis\":{\"automargin\":true,\"gridcolor\":\"#283442\",\"linecolor\":\"#506784\",\"ticks\":\"\",\"title\":{\"standoff\":15},\"zerolinecolor\":\"#283442\",\"zerolinewidth\":2}}},\"legend\":{\"tracegroupgap\":0,\"title\":{\"text\":\"Sentiment\"},\"orientation\":\"h\",\"y\":1.1,\"x\":0.5},\"title\":{\"text\":\"Sentiment Distribution Over Time\"},\"margin\":{\"t\":50,\"b\":10,\"l\":10,\"r\":10}},                        {\"responsive\": true}                    ).then(function(){\n",
              "                            \n",
              "var gd = document.getElementById('846a419e-44c1-4db6-b2b5-cfd5828e8222');\n",
              "var x = new MutationObserver(function (mutations, observer) {{\n",
              "        var display = window.getComputedStyle(gd).display;\n",
              "        if (!display || display === 'none') {{\n",
              "            console.log([gd, 'removed!']);\n",
              "            Plotly.purge(gd);\n",
              "            observer.disconnect();\n",
              "        }}\n",
              "}});\n",
              "\n",
              "// Listen for the removal of the full notebook cells\n",
              "var notebookContainer = gd.closest('#notebook-container');\n",
              "if (notebookContainer) {{\n",
              "    x.observe(notebookContainer, {childList: true});\n",
              "}}\n",
              "\n",
              "// Listen for the clearing of the current output cell\n",
              "var outputEl = gd.closest('.output');\n",
              "if (outputEl) {{\n",
              "    x.observe(outputEl, {childList: true});\n",
              "}}\n",
              "\n",
              "                        })                };                            </script>        </div>\n",
              "</body>\n",
              "</html>"
            ]
          },
          "metadata": {}
        }
      ],
      "source": [
        "# Import necessary libraries\n",
        "import plotly.express as px\n",
        "\n",
        "# Group by date and calculate sentiment counts\n",
        "daily_sentiments = df.groupby([df['created_at'].dt.date, 'sentiment']).size().unstack(fill_value=0).reset_index()\n",
        "\n",
        "# Melt the DataFrame for easier plotting with Plotly Express\n",
        "melted_df = daily_sentiments.melt(id_vars='created_at', var_name='sentiment', value_name='count')\n",
        "\n",
        "# Creating a pie chart with Plotly Express\n",
        "fig = px.pie(melted_df, names='sentiment', values='count',\n",
        "             title='Sentiment Distribution Over Time',\n",
        "             labels={'count': 'Number of Texts', 'sentiment': 'Sentiment'},\n",
        "             color='sentiment',\n",
        "             color_discrete_map={'positive': 'green', 'neutral': 'gray', 'negative': 'red'},\n",
        "             hole=0.3  # Add a hole in the middle for better readability\n",
        "             )\n",
        "\n",
        "# Adding legend outside the pie chart\n",
        "fig.update_layout(\n",
        "    legend=dict(title='Sentiment', orientation='h', y=1.1, x=0.5),\n",
        "    template='plotly_dark',  # Enable dark mode\n",
        "    margin=dict(t=50, b=10, l=10, r=10),  # Adjust margin for better layout\n",
        ")\n",
        "\n",
        "# Customizing the pie chart layout\n",
        "fig.update_traces(textinfo='percent+label',  # Display percentage and label in each pie slice\n",
        "                  pull=[0.1, 0.1, 0.1],  # Pull slices from the center for emphasis\n",
        "                  hoverinfo='label+percent',  # Display label and percentage on hover\n",
        "                  textfont_size=16,  # Set font size for text\n",
        "                  marker=dict(line=dict(color='white', width=2)), # Add white border around slices\n",
        "                  )\n",
        "\n",
        "# Show the interactive pie chart\n",
        "fig.show()\n"
      ]
    },
    {
      "cell_type": "markdown",
      "metadata": {
        "id": "auuMDLMR0PPr"
      },
      "source": [
        "## Bar Graph"
      ]
    },
    {
      "cell_type": "code",
      "execution_count": null,
      "metadata": {
        "colab": {
          "base_uri": "https://localhost:8080/",
          "height": 542
        },
        "id": "EwEPDzd80TGA",
        "outputId": "ea128687-aac9-4ab7-b8a7-f2e0cd875c3e"
      },
      "outputs": [
        {
          "output_type": "display_data",
          "data": {
            "text/html": [
              "<html>\n",
              "<head><meta charset=\"utf-8\" /></head>\n",
              "<body>\n",
              "    <div>            <script src=\"https://cdnjs.cloudflare.com/ajax/libs/mathjax/2.7.5/MathJax.js?config=TeX-AMS-MML_SVG\"></script><script type=\"text/javascript\">if (window.MathJax && window.MathJax.Hub && window.MathJax.Hub.Config) {window.MathJax.Hub.Config({SVG: {font: \"STIX-Web\"}});}</script>                <script type=\"text/javascript\">window.PlotlyConfig = {MathJaxConfig: 'local'};</script>\n",
              "        <script charset=\"utf-8\" src=\"https://cdn.plot.ly/plotly-2.24.1.min.js\"></script>                <div id=\"32454c68-25f5-46ee-917b-f2c46bc8d523\" class=\"plotly-graph-div\" style=\"height:525px; width:100%;\"></div>            <script type=\"text/javascript\">                                    window.PLOTLYENV=window.PLOTLYENV || {};                                    if (document.getElementById(\"32454c68-25f5-46ee-917b-f2c46bc8d523\")) {                    Plotly.newPlot(                        \"32454c68-25f5-46ee-917b-f2c46bc8d523\",                        [{\"alignmentgroup\":\"True\",\"hovertemplate\":\"sentiment=Negative\\u003cbr\\u003eDate=%{x}\\u003cbr\\u003eNumber of Texts=%{y}\\u003cextra\\u003e\\u003c\\u002fextra\\u003e\",\"legendgroup\":\"Negative\",\"marker\":{\"color\":\"#ab63fa\",\"pattern\":{\"shape\":\"\"}},\"name\":\"Negative\",\"offsetgroup\":\"Negative\",\"orientation\":\"v\",\"showlegend\":true,\"textposition\":\"auto\",\"x\":[\"2022-01-01\",\"2022-01-04\",\"2022-01-07\",\"2022-01-08\",\"2022-01-09\",\"2022-01-10\",\"2022-01-25\",\"2022-02-01\",\"2022-02-18\",\"2022-02-22\",\"2022-03-11\",\"2022-03-15\",\"2022-03-16\",\"2022-03-19\",\"2022-04-17\",\"2022-05-02\",\"2022-05-09\",\"2022-05-23\",\"2022-05-30\",\"2022-06-13\",\"2022-08-14\",\"2022-08-20\",\"2022-09-08\",\"2022-09-29\",\"2022-10-03\",\"2022-10-05\",\"2022-10-24\",\"2022-10-25\",\"2022-11-06\",\"2022-11-27\",\"2022-12-12\",\"2022-12-21\",\"2022-12-28\",\"2022-12-31\"],\"xaxis\":\"x\",\"y\":[0,0,1,0,1,0,0,0,0,0,1,0,0,0,1,0,0,0,0,0,0,1,0,0,0,0,0,0,1,1,0,1,0,1],\"yaxis\":\"y\",\"type\":\"bar\"},{\"alignmentgroup\":\"True\",\"hovertemplate\":\"sentiment=Neutral\\u003cbr\\u003eDate=%{x}\\u003cbr\\u003eNumber of Texts=%{y}\\u003cextra\\u003e\\u003c\\u002fextra\\u003e\",\"legendgroup\":\"Neutral\",\"marker\":{\"color\":\"#FFA15A\",\"pattern\":{\"shape\":\"\"}},\"name\":\"Neutral\",\"offsetgroup\":\"Neutral\",\"orientation\":\"v\",\"showlegend\":true,\"textposition\":\"auto\",\"x\":[\"2022-01-01\",\"2022-01-04\",\"2022-01-07\",\"2022-01-08\",\"2022-01-09\",\"2022-01-10\",\"2022-01-25\",\"2022-02-01\",\"2022-02-18\",\"2022-02-22\",\"2022-03-11\",\"2022-03-15\",\"2022-03-16\",\"2022-03-19\",\"2022-04-17\",\"2022-05-02\",\"2022-05-09\",\"2022-05-23\",\"2022-05-30\",\"2022-06-13\",\"2022-08-14\",\"2022-08-20\",\"2022-09-08\",\"2022-09-29\",\"2022-10-03\",\"2022-10-05\",\"2022-10-24\",\"2022-10-25\",\"2022-11-06\",\"2022-11-27\",\"2022-12-12\",\"2022-12-21\",\"2022-12-28\",\"2022-12-31\"],\"xaxis\":\"x\",\"y\":[1,0,0,0,0,0,0,0,0,0,0,0,0,0,0,0,0,0,0,0,0,0,1,1,0,0,0,0,0,0,0,0,0,0],\"yaxis\":\"y\",\"type\":\"bar\"},{\"alignmentgroup\":\"True\",\"hovertemplate\":\"sentiment=Positive\\u003cbr\\u003eDate=%{x}\\u003cbr\\u003eNumber of Texts=%{y}\\u003cextra\\u003e\\u003c\\u002fextra\\u003e\",\"legendgroup\":\"Positive\",\"marker\":{\"color\":\"#19d3f3\",\"pattern\":{\"shape\":\"\"}},\"name\":\"Positive\",\"offsetgroup\":\"Positive\",\"orientation\":\"v\",\"showlegend\":true,\"textposition\":\"auto\",\"x\":[\"2022-01-01\",\"2022-01-04\",\"2022-01-07\",\"2022-01-08\",\"2022-01-09\",\"2022-01-10\",\"2022-01-25\",\"2022-02-01\",\"2022-02-18\",\"2022-02-22\",\"2022-03-11\",\"2022-03-15\",\"2022-03-16\",\"2022-03-19\",\"2022-04-17\",\"2022-05-02\",\"2022-05-09\",\"2022-05-23\",\"2022-05-30\",\"2022-06-13\",\"2022-08-14\",\"2022-08-20\",\"2022-09-08\",\"2022-09-29\",\"2022-10-03\",\"2022-10-05\",\"2022-10-24\",\"2022-10-25\",\"2022-11-06\",\"2022-11-27\",\"2022-12-12\",\"2022-12-21\",\"2022-12-28\",\"2022-12-31\"],\"xaxis\":\"x\",\"y\":[6,1,0,1,0,1,1,1,1,1,0,1,1,1,0,1,1,1,1,1,1,0,0,0,1,1,1,1,0,0,1,0,1,0],\"yaxis\":\"y\",\"type\":\"bar\"}],                        {\"template\":{\"data\":{\"barpolar\":[{\"marker\":{\"line\":{\"color\":\"rgb(17,17,17)\",\"width\":0.5},\"pattern\":{\"fillmode\":\"overlay\",\"size\":10,\"solidity\":0.2}},\"type\":\"barpolar\"}],\"bar\":[{\"error_x\":{\"color\":\"#f2f5fa\"},\"error_y\":{\"color\":\"#f2f5fa\"},\"marker\":{\"line\":{\"color\":\"rgb(17,17,17)\",\"width\":0.5},\"pattern\":{\"fillmode\":\"overlay\",\"size\":10,\"solidity\":0.2}},\"type\":\"bar\"}],\"carpet\":[{\"aaxis\":{\"endlinecolor\":\"#A2B1C6\",\"gridcolor\":\"#506784\",\"linecolor\":\"#506784\",\"minorgridcolor\":\"#506784\",\"startlinecolor\":\"#A2B1C6\"},\"baxis\":{\"endlinecolor\":\"#A2B1C6\",\"gridcolor\":\"#506784\",\"linecolor\":\"#506784\",\"minorgridcolor\":\"#506784\",\"startlinecolor\":\"#A2B1C6\"},\"type\":\"carpet\"}],\"choropleth\":[{\"colorbar\":{\"outlinewidth\":0,\"ticks\":\"\"},\"type\":\"choropleth\"}],\"contourcarpet\":[{\"colorbar\":{\"outlinewidth\":0,\"ticks\":\"\"},\"type\":\"contourcarpet\"}],\"contour\":[{\"colorbar\":{\"outlinewidth\":0,\"ticks\":\"\"},\"colorscale\":[[0.0,\"#0d0887\"],[0.1111111111111111,\"#46039f\"],[0.2222222222222222,\"#7201a8\"],[0.3333333333333333,\"#9c179e\"],[0.4444444444444444,\"#bd3786\"],[0.5555555555555556,\"#d8576b\"],[0.6666666666666666,\"#ed7953\"],[0.7777777777777778,\"#fb9f3a\"],[0.8888888888888888,\"#fdca26\"],[1.0,\"#f0f921\"]],\"type\":\"contour\"}],\"heatmapgl\":[{\"colorbar\":{\"outlinewidth\":0,\"ticks\":\"\"},\"colorscale\":[[0.0,\"#0d0887\"],[0.1111111111111111,\"#46039f\"],[0.2222222222222222,\"#7201a8\"],[0.3333333333333333,\"#9c179e\"],[0.4444444444444444,\"#bd3786\"],[0.5555555555555556,\"#d8576b\"],[0.6666666666666666,\"#ed7953\"],[0.7777777777777778,\"#fb9f3a\"],[0.8888888888888888,\"#fdca26\"],[1.0,\"#f0f921\"]],\"type\":\"heatmapgl\"}],\"heatmap\":[{\"colorbar\":{\"outlinewidth\":0,\"ticks\":\"\"},\"colorscale\":[[0.0,\"#0d0887\"],[0.1111111111111111,\"#46039f\"],[0.2222222222222222,\"#7201a8\"],[0.3333333333333333,\"#9c179e\"],[0.4444444444444444,\"#bd3786\"],[0.5555555555555556,\"#d8576b\"],[0.6666666666666666,\"#ed7953\"],[0.7777777777777778,\"#fb9f3a\"],[0.8888888888888888,\"#fdca26\"],[1.0,\"#f0f921\"]],\"type\":\"heatmap\"}],\"histogram2dcontour\":[{\"colorbar\":{\"outlinewidth\":0,\"ticks\":\"\"},\"colorscale\":[[0.0,\"#0d0887\"],[0.1111111111111111,\"#46039f\"],[0.2222222222222222,\"#7201a8\"],[0.3333333333333333,\"#9c179e\"],[0.4444444444444444,\"#bd3786\"],[0.5555555555555556,\"#d8576b\"],[0.6666666666666666,\"#ed7953\"],[0.7777777777777778,\"#fb9f3a\"],[0.8888888888888888,\"#fdca26\"],[1.0,\"#f0f921\"]],\"type\":\"histogram2dcontour\"}],\"histogram2d\":[{\"colorbar\":{\"outlinewidth\":0,\"ticks\":\"\"},\"colorscale\":[[0.0,\"#0d0887\"],[0.1111111111111111,\"#46039f\"],[0.2222222222222222,\"#7201a8\"],[0.3333333333333333,\"#9c179e\"],[0.4444444444444444,\"#bd3786\"],[0.5555555555555556,\"#d8576b\"],[0.6666666666666666,\"#ed7953\"],[0.7777777777777778,\"#fb9f3a\"],[0.8888888888888888,\"#fdca26\"],[1.0,\"#f0f921\"]],\"type\":\"histogram2d\"}],\"histogram\":[{\"marker\":{\"pattern\":{\"fillmode\":\"overlay\",\"size\":10,\"solidity\":0.2}},\"type\":\"histogram\"}],\"mesh3d\":[{\"colorbar\":{\"outlinewidth\":0,\"ticks\":\"\"},\"type\":\"mesh3d\"}],\"parcoords\":[{\"line\":{\"colorbar\":{\"outlinewidth\":0,\"ticks\":\"\"}},\"type\":\"parcoords\"}],\"pie\":[{\"automargin\":true,\"type\":\"pie\"}],\"scatter3d\":[{\"line\":{\"colorbar\":{\"outlinewidth\":0,\"ticks\":\"\"}},\"marker\":{\"colorbar\":{\"outlinewidth\":0,\"ticks\":\"\"}},\"type\":\"scatter3d\"}],\"scattercarpet\":[{\"marker\":{\"colorbar\":{\"outlinewidth\":0,\"ticks\":\"\"}},\"type\":\"scattercarpet\"}],\"scattergeo\":[{\"marker\":{\"colorbar\":{\"outlinewidth\":0,\"ticks\":\"\"}},\"type\":\"scattergeo\"}],\"scattergl\":[{\"marker\":{\"line\":{\"color\":\"#283442\"}},\"type\":\"scattergl\"}],\"scattermapbox\":[{\"marker\":{\"colorbar\":{\"outlinewidth\":0,\"ticks\":\"\"}},\"type\":\"scattermapbox\"}],\"scatterpolargl\":[{\"marker\":{\"colorbar\":{\"outlinewidth\":0,\"ticks\":\"\"}},\"type\":\"scatterpolargl\"}],\"scatterpolar\":[{\"marker\":{\"colorbar\":{\"outlinewidth\":0,\"ticks\":\"\"}},\"type\":\"scatterpolar\"}],\"scatter\":[{\"marker\":{\"line\":{\"color\":\"#283442\"}},\"type\":\"scatter\"}],\"scatterternary\":[{\"marker\":{\"colorbar\":{\"outlinewidth\":0,\"ticks\":\"\"}},\"type\":\"scatterternary\"}],\"surface\":[{\"colorbar\":{\"outlinewidth\":0,\"ticks\":\"\"},\"colorscale\":[[0.0,\"#0d0887\"],[0.1111111111111111,\"#46039f\"],[0.2222222222222222,\"#7201a8\"],[0.3333333333333333,\"#9c179e\"],[0.4444444444444444,\"#bd3786\"],[0.5555555555555556,\"#d8576b\"],[0.6666666666666666,\"#ed7953\"],[0.7777777777777778,\"#fb9f3a\"],[0.8888888888888888,\"#fdca26\"],[1.0,\"#f0f921\"]],\"type\":\"surface\"}],\"table\":[{\"cells\":{\"fill\":{\"color\":\"#506784\"},\"line\":{\"color\":\"rgb(17,17,17)\"}},\"header\":{\"fill\":{\"color\":\"#2a3f5f\"},\"line\":{\"color\":\"rgb(17,17,17)\"}},\"type\":\"table\"}]},\"layout\":{\"annotationdefaults\":{\"arrowcolor\":\"#f2f5fa\",\"arrowhead\":0,\"arrowwidth\":1},\"autotypenumbers\":\"strict\",\"coloraxis\":{\"colorbar\":{\"outlinewidth\":0,\"ticks\":\"\"}},\"colorscale\":{\"diverging\":[[0,\"#8e0152\"],[0.1,\"#c51b7d\"],[0.2,\"#de77ae\"],[0.3,\"#f1b6da\"],[0.4,\"#fde0ef\"],[0.5,\"#f7f7f7\"],[0.6,\"#e6f5d0\"],[0.7,\"#b8e186\"],[0.8,\"#7fbc41\"],[0.9,\"#4d9221\"],[1,\"#276419\"]],\"sequential\":[[0.0,\"#0d0887\"],[0.1111111111111111,\"#46039f\"],[0.2222222222222222,\"#7201a8\"],[0.3333333333333333,\"#9c179e\"],[0.4444444444444444,\"#bd3786\"],[0.5555555555555556,\"#d8576b\"],[0.6666666666666666,\"#ed7953\"],[0.7777777777777778,\"#fb9f3a\"],[0.8888888888888888,\"#fdca26\"],[1.0,\"#f0f921\"]],\"sequentialminus\":[[0.0,\"#0d0887\"],[0.1111111111111111,\"#46039f\"],[0.2222222222222222,\"#7201a8\"],[0.3333333333333333,\"#9c179e\"],[0.4444444444444444,\"#bd3786\"],[0.5555555555555556,\"#d8576b\"],[0.6666666666666666,\"#ed7953\"],[0.7777777777777778,\"#fb9f3a\"],[0.8888888888888888,\"#fdca26\"],[1.0,\"#f0f921\"]]},\"colorway\":[\"#636efa\",\"#EF553B\",\"#00cc96\",\"#ab63fa\",\"#FFA15A\",\"#19d3f3\",\"#FF6692\",\"#B6E880\",\"#FF97FF\",\"#FECB52\"],\"font\":{\"color\":\"#f2f5fa\"},\"geo\":{\"bgcolor\":\"rgb(17,17,17)\",\"lakecolor\":\"rgb(17,17,17)\",\"landcolor\":\"rgb(17,17,17)\",\"showlakes\":true,\"showland\":true,\"subunitcolor\":\"#506784\"},\"hoverlabel\":{\"align\":\"left\"},\"hovermode\":\"closest\",\"mapbox\":{\"style\":\"dark\"},\"paper_bgcolor\":\"rgb(17,17,17)\",\"plot_bgcolor\":\"rgb(17,17,17)\",\"polar\":{\"angularaxis\":{\"gridcolor\":\"#506784\",\"linecolor\":\"#506784\",\"ticks\":\"\"},\"bgcolor\":\"rgb(17,17,17)\",\"radialaxis\":{\"gridcolor\":\"#506784\",\"linecolor\":\"#506784\",\"ticks\":\"\"}},\"scene\":{\"xaxis\":{\"backgroundcolor\":\"rgb(17,17,17)\",\"gridcolor\":\"#506784\",\"gridwidth\":2,\"linecolor\":\"#506784\",\"showbackground\":true,\"ticks\":\"\",\"zerolinecolor\":\"#C8D4E3\"},\"yaxis\":{\"backgroundcolor\":\"rgb(17,17,17)\",\"gridcolor\":\"#506784\",\"gridwidth\":2,\"linecolor\":\"#506784\",\"showbackground\":true,\"ticks\":\"\",\"zerolinecolor\":\"#C8D4E3\"},\"zaxis\":{\"backgroundcolor\":\"rgb(17,17,17)\",\"gridcolor\":\"#506784\",\"gridwidth\":2,\"linecolor\":\"#506784\",\"showbackground\":true,\"ticks\":\"\",\"zerolinecolor\":\"#C8D4E3\"}},\"shapedefaults\":{\"line\":{\"color\":\"#f2f5fa\"}},\"sliderdefaults\":{\"bgcolor\":\"#C8D4E3\",\"bordercolor\":\"rgb(17,17,17)\",\"borderwidth\":1,\"tickwidth\":0},\"ternary\":{\"aaxis\":{\"gridcolor\":\"#506784\",\"linecolor\":\"#506784\",\"ticks\":\"\"},\"baxis\":{\"gridcolor\":\"#506784\",\"linecolor\":\"#506784\",\"ticks\":\"\"},\"bgcolor\":\"rgb(17,17,17)\",\"caxis\":{\"gridcolor\":\"#506784\",\"linecolor\":\"#506784\",\"ticks\":\"\"}},\"title\":{\"x\":0.05},\"updatemenudefaults\":{\"bgcolor\":\"#506784\",\"borderwidth\":0},\"xaxis\":{\"automargin\":true,\"gridcolor\":\"#283442\",\"linecolor\":\"#506784\",\"ticks\":\"\",\"title\":{\"standoff\":15},\"zerolinecolor\":\"#283442\",\"zerolinewidth\":2},\"yaxis\":{\"automargin\":true,\"gridcolor\":\"#283442\",\"linecolor\":\"#506784\",\"ticks\":\"\",\"title\":{\"standoff\":15},\"zerolinecolor\":\"#283442\",\"zerolinewidth\":2}}},\"xaxis\":{\"anchor\":\"y\",\"domain\":[0.0,1.0],\"title\":{\"text\":\"Date\"},\"tickformat\":\"%Y-%m-%d\"},\"yaxis\":{\"anchor\":\"x\",\"domain\":[0.0,1.0],\"title\":{\"text\":\"Number of Texts\"},\"tickmode\":\"linear\"},\"legend\":{\"title\":{\"text\":\"Sentiment\"},\"tracegroupgap\":0,\"orientation\":\"h\",\"y\":1.1,\"x\":0.5},\"title\":{\"text\":\"Sentiment Distribution Over Time (Bar Graph)\"},\"barmode\":\"relative\",\"autosize\":true},                        {\"responsive\": true}                    ).then(function(){\n",
              "                            \n",
              "var gd = document.getElementById('32454c68-25f5-46ee-917b-f2c46bc8d523');\n",
              "var x = new MutationObserver(function (mutations, observer) {{\n",
              "        var display = window.getComputedStyle(gd).display;\n",
              "        if (!display || display === 'none') {{\n",
              "            console.log([gd, 'removed!']);\n",
              "            Plotly.purge(gd);\n",
              "            observer.disconnect();\n",
              "        }}\n",
              "}});\n",
              "\n",
              "// Listen for the removal of the full notebook cells\n",
              "var notebookContainer = gd.closest('#notebook-container');\n",
              "if (notebookContainer) {{\n",
              "    x.observe(notebookContainer, {childList: true});\n",
              "}}\n",
              "\n",
              "// Listen for the clearing of the current output cell\n",
              "var outputEl = gd.closest('.output');\n",
              "if (outputEl) {{\n",
              "    x.observe(outputEl, {childList: true});\n",
              "}}\n",
              "\n",
              "                        })                };                            </script>        </div>\n",
              "</body>\n",
              "</html>"
            ]
          },
          "metadata": {}
        }
      ],
      "source": [
        "# Import necessary libraries\n",
        "import plotly.express as px\n",
        "\n",
        "# Group by date and calculate sentiment counts\n",
        "daily_sentiments = df.groupby([df['created_at'].dt.date, 'sentiment']).size().unstack(fill_value=0).reset_index()\n",
        "\n",
        "# Melt the DataFrame for easier plotting with Plotly Express\n",
        "melted_df = daily_sentiments.melt(id_vars='created_at', var_name='sentiment', value_name='count')\n",
        "\n",
        "# Plotting with Plotly Express as a bar graph\n",
        "fig = px.bar(melted_df, x='created_at', y='count', color='sentiment',\n",
        "             title='Sentiment Distribution Over Time (Bar Graph)',\n",
        "             labels={'created_at': 'Date', 'count': 'Number of Texts'},\n",
        "             color_discrete_map={'positive': 'green', 'neutral': 'gray', 'negative': 'red'})\n",
        "\n",
        "# Adding legend outside the plot\n",
        "fig.update_layout(\n",
        "    legend=dict(title='Sentiment', orientation='h', y=1.1, x=0.5),\n",
        "    xaxis=dict(tickformat='%Y-%m-%d'),\n",
        "    yaxis=dict(title='Number of Texts', tickmode='linear'),\n",
        "    autosize=True,  # Ensure the layout doesn't auto-adjust\n",
        "    # width=800,       # Set a fixed width for better visibility\n",
        "    # height=500,      # Set a fixed height for better visibility\n",
        "    template='plotly_dark'  # Enable dark mode\n",
        ")\n",
        "\n",
        "# Show the interactive plot\n",
        "fig.show()\n"
      ]
    }
  ],
  "metadata": {
    "colab": {
      "collapsed_sections": [
        "5VQnwdyZpsMC",
        "dhPwwcWzoL_K",
        "m34VNzKduR4p"
      ],
      "provenance": [],
      "include_colab_link": true
    },
    "kernelspec": {
      "display_name": "Python 3",
      "name": "python3"
    },
    "language_info": {
      "name": "python"
    }
  },
  "nbformat": 4,
  "nbformat_minor": 0
}